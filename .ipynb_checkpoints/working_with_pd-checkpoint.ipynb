{
 "cells": [
  {
   "cell_type": "code",
   "execution_count": 1,
   "metadata": {},
   "outputs": [],
   "source": [
    "import pandas as pd"
   ]
  },
  {
   "cell_type": "markdown",
   "metadata": {},
   "source": [
    "# Предобработка"
   ]
  },
  {
   "cell_type": "code",
   "execution_count": 2,
   "metadata": {},
   "outputs": [],
   "source": [
    "df = pd.read_csv(\"tcs_only_modeling_abt.tsv\", sep='\\t')"
   ]
  },
  {
   "cell_type": "code",
   "execution_count": 3,
   "metadata": {},
   "outputs": [
    {
     "data": {
      "text/plain": [
       "Index(['uid', 'tech_obs_id', 'app_bank_nm', 'tech_dog_type', 'trg_pd',\n",
       "       'trg_utilization', 'trg_grace', 'tech_target_source', 'tech_target_d',\n",
       "       'var_001',\n",
       "       ...\n",
       "       'var_461', 'var_462', 'var_463', 'var_464', 'var_465', 'var_466',\n",
       "       'var_467', 'var_468', 'var_469', 'var_470'],\n",
       "      dtype='object', length=479)"
      ]
     },
     "execution_count": 3,
     "metadata": {},
     "output_type": "execute_result"
    }
   ],
   "source": [
    "df.columns"
   ]
  },
  {
   "cell_type": "code",
   "execution_count": 4,
   "metadata": {},
   "outputs": [
    {
     "data": {
      "text/html": [
       "<div>\n",
       "<style scoped>\n",
       "    .dataframe tbody tr th:only-of-type {\n",
       "        vertical-align: middle;\n",
       "    }\n",
       "\n",
       "    .dataframe tbody tr th {\n",
       "        vertical-align: top;\n",
       "    }\n",
       "\n",
       "    .dataframe thead th {\n",
       "        text-align: right;\n",
       "    }\n",
       "</style>\n",
       "<table border=\"1\" class=\"dataframe\">\n",
       "  <thead>\n",
       "    <tr style=\"text-align: right;\">\n",
       "      <th></th>\n",
       "      <th>uid</th>\n",
       "      <th>tech_obs_id</th>\n",
       "      <th>app_bank_nm</th>\n",
       "      <th>tech_dog_type</th>\n",
       "      <th>trg_pd</th>\n",
       "      <th>trg_utilization</th>\n",
       "      <th>trg_grace</th>\n",
       "      <th>tech_target_source</th>\n",
       "      <th>tech_target_d</th>\n",
       "      <th>var_001</th>\n",
       "      <th>...</th>\n",
       "      <th>var_461</th>\n",
       "      <th>var_462</th>\n",
       "      <th>var_463</th>\n",
       "      <th>var_464</th>\n",
       "      <th>var_465</th>\n",
       "      <th>var_466</th>\n",
       "      <th>var_467</th>\n",
       "      <th>var_468</th>\n",
       "      <th>var_469</th>\n",
       "      <th>var_470</th>\n",
       "    </tr>\n",
       "  </thead>\n",
       "  <tbody>\n",
       "    <tr>\n",
       "      <th>0</th>\n",
       "      <td>2610726</td>\n",
       "      <td>15</td>\n",
       "      <td>tinkoff</td>\n",
       "      <td>error</td>\n",
       "      <td>0</td>\n",
       "      <td>0.0</td>\n",
       "      <td>0</td>\n",
       "      <td>target_from_tinkoff</td>\n",
       "      <td>2015-09-28</td>\n",
       "      <td>0</td>\n",
       "      <td>...</td>\n",
       "      <td>11.87</td>\n",
       "      <td>11.87</td>\n",
       "      <td>23.74</td>\n",
       "      <td>0.0</td>\n",
       "      <td>11.87</td>\n",
       "      <td>35.61</td>\n",
       "      <td>11.87</td>\n",
       "      <td>0.0</td>\n",
       "      <td>0.0</td>\n",
       "      <td>0.0</td>\n",
       "    </tr>\n",
       "    <tr>\n",
       "      <th>1</th>\n",
       "      <td>2610519</td>\n",
       "      <td>22</td>\n",
       "      <td>tinkoff</td>\n",
       "      <td>error</td>\n",
       "      <td>0</td>\n",
       "      <td>0.0</td>\n",
       "      <td>1</td>\n",
       "      <td>target_from_tinkoff</td>\n",
       "      <td>2015-01-28</td>\n",
       "      <td>0</td>\n",
       "      <td>...</td>\n",
       "      <td>11.87</td>\n",
       "      <td>11.87</td>\n",
       "      <td>11.87</td>\n",
       "      <td>0.0</td>\n",
       "      <td>0.00</td>\n",
       "      <td>11.87</td>\n",
       "      <td>11.87</td>\n",
       "      <td>0.0</td>\n",
       "      <td>0.0</td>\n",
       "      <td>0.0</td>\n",
       "    </tr>\n",
       "    <tr>\n",
       "      <th>2</th>\n",
       "      <td>2610399</td>\n",
       "      <td>29</td>\n",
       "      <td>tinkoff</td>\n",
       "      <td>error</td>\n",
       "      <td>0</td>\n",
       "      <td>0.0</td>\n",
       "      <td>1</td>\n",
       "      <td>target_from_tinkoff</td>\n",
       "      <td>2015-10-20</td>\n",
       "      <td>0</td>\n",
       "      <td>...</td>\n",
       "      <td>0.00</td>\n",
       "      <td>11.87</td>\n",
       "      <td>11.87</td>\n",
       "      <td>0.0</td>\n",
       "      <td>0.00</td>\n",
       "      <td>11.87</td>\n",
       "      <td>11.87</td>\n",
       "      <td>0.0</td>\n",
       "      <td>0.0</td>\n",
       "      <td>0.0</td>\n",
       "    </tr>\n",
       "    <tr>\n",
       "      <th>3</th>\n",
       "      <td>2609761</td>\n",
       "      <td>50</td>\n",
       "      <td>tinkoff</td>\n",
       "      <td>error</td>\n",
       "      <td>0</td>\n",
       "      <td>0.0</td>\n",
       "      <td>1</td>\n",
       "      <td>target_from_tinkoff</td>\n",
       "      <td>2015-03-20</td>\n",
       "      <td>0</td>\n",
       "      <td>...</td>\n",
       "      <td>0.00</td>\n",
       "      <td>11.87</td>\n",
       "      <td>11.87</td>\n",
       "      <td>0.0</td>\n",
       "      <td>23.74</td>\n",
       "      <td>35.61</td>\n",
       "      <td>23.74</td>\n",
       "      <td>0.0</td>\n",
       "      <td>0.0</td>\n",
       "      <td>0.0</td>\n",
       "    </tr>\n",
       "    <tr>\n",
       "      <th>4</th>\n",
       "      <td>2609487</td>\n",
       "      <td>57</td>\n",
       "      <td>tinkoff</td>\n",
       "      <td>error</td>\n",
       "      <td>0</td>\n",
       "      <td>0.0</td>\n",
       "      <td>1</td>\n",
       "      <td>target_from_tinkoff</td>\n",
       "      <td>2015-04-14</td>\n",
       "      <td>0</td>\n",
       "      <td>...</td>\n",
       "      <td>0.00</td>\n",
       "      <td>11.87</td>\n",
       "      <td>0.00</td>\n",
       "      <td>0.0</td>\n",
       "      <td>11.87</td>\n",
       "      <td>11.87</td>\n",
       "      <td>11.87</td>\n",
       "      <td>0.0</td>\n",
       "      <td>0.0</td>\n",
       "      <td>0.0</td>\n",
       "    </tr>\n",
       "  </tbody>\n",
       "</table>\n",
       "<p>5 rows × 479 columns</p>\n",
       "</div>"
      ],
      "text/plain": [
       "       uid  tech_obs_id app_bank_nm tech_dog_type  trg_pd  trg_utilization  \\\n",
       "0  2610726           15     tinkoff         error       0              0.0   \n",
       "1  2610519           22     tinkoff         error       0              0.0   \n",
       "2  2610399           29     tinkoff         error       0              0.0   \n",
       "3  2609761           50     tinkoff         error       0              0.0   \n",
       "4  2609487           57     tinkoff         error       0              0.0   \n",
       "\n",
       "   trg_grace   tech_target_source tech_target_d  var_001  ...  var_461  \\\n",
       "0          0  target_from_tinkoff    2015-09-28        0  ...    11.87   \n",
       "1          1  target_from_tinkoff    2015-01-28        0  ...    11.87   \n",
       "2          1  target_from_tinkoff    2015-10-20        0  ...     0.00   \n",
       "3          1  target_from_tinkoff    2015-03-20        0  ...     0.00   \n",
       "4          1  target_from_tinkoff    2015-04-14        0  ...     0.00   \n",
       "\n",
       "   var_462  var_463  var_464  var_465  var_466  var_467  var_468  var_469  \\\n",
       "0    11.87    23.74      0.0    11.87    35.61    11.87      0.0      0.0   \n",
       "1    11.87    11.87      0.0     0.00    11.87    11.87      0.0      0.0   \n",
       "2    11.87    11.87      0.0     0.00    11.87    11.87      0.0      0.0   \n",
       "3    11.87    11.87      0.0    23.74    35.61    23.74      0.0      0.0   \n",
       "4    11.87     0.00      0.0    11.87    11.87    11.87      0.0      0.0   \n",
       "\n",
       "   var_470  \n",
       "0      0.0  \n",
       "1      0.0  \n",
       "2      0.0  \n",
       "3      0.0  \n",
       "4      0.0  \n",
       "\n",
       "[5 rows x 479 columns]"
      ]
     },
     "execution_count": 4,
     "metadata": {},
     "output_type": "execute_result"
    }
   ],
   "source": [
    "df.head()"
   ]
  },
  {
   "cell_type": "code",
   "execution_count": 5,
   "metadata": {},
   "outputs": [],
   "source": [
    "data = df.drop([\"uid\", \"tech_obs_id\", \"app_bank_nm\", \"tech_dog_type\", \"trg_utilization\", \"tech_target_source\", \"tech_target_d\"],\n",
    "               axis = 1)\n",
    "data = data.drop(['var_0{}'.format(i) for i in range(63, 73 + 1)], axis = 1)\n",
    "data = data.dropna()"
   ]
  },
  {
   "cell_type": "code",
   "execution_count": 6,
   "metadata": {},
   "outputs": [
    {
     "data": {
      "text/html": [
       "<div>\n",
       "<style scoped>\n",
       "    .dataframe tbody tr th:only-of-type {\n",
       "        vertical-align: middle;\n",
       "    }\n",
       "\n",
       "    .dataframe tbody tr th {\n",
       "        vertical-align: top;\n",
       "    }\n",
       "\n",
       "    .dataframe thead th {\n",
       "        text-align: right;\n",
       "    }\n",
       "</style>\n",
       "<table border=\"1\" class=\"dataframe\">\n",
       "  <thead>\n",
       "    <tr style=\"text-align: right;\">\n",
       "      <th></th>\n",
       "      <th>trg_pd</th>\n",
       "      <th>trg_grace</th>\n",
       "      <th>var_001</th>\n",
       "      <th>var_002</th>\n",
       "      <th>var_003</th>\n",
       "      <th>var_004</th>\n",
       "      <th>var_005</th>\n",
       "      <th>var_006</th>\n",
       "      <th>var_007</th>\n",
       "      <th>var_008</th>\n",
       "      <th>...</th>\n",
       "      <th>var_062_mts</th>\n",
       "      <th>var_062_orient</th>\n",
       "      <th>var_062_pochta</th>\n",
       "      <th>var_062_renaissance</th>\n",
       "      <th>var_062_rosbank</th>\n",
       "      <th>var_062_sbrf</th>\n",
       "      <th>var_062_tinkoff</th>\n",
       "      <th>var_062_ubrr</th>\n",
       "      <th>var_062_uralsib</th>\n",
       "      <th>var_062_vtb24</th>\n",
       "    </tr>\n",
       "  </thead>\n",
       "  <tbody>\n",
       "    <tr>\n",
       "      <th>0</th>\n",
       "      <td>0</td>\n",
       "      <td>0</td>\n",
       "      <td>0</td>\n",
       "      <td>1</td>\n",
       "      <td>0</td>\n",
       "      <td>0</td>\n",
       "      <td>1</td>\n",
       "      <td>0</td>\n",
       "      <td>0</td>\n",
       "      <td>0</td>\n",
       "      <td>...</td>\n",
       "      <td>0</td>\n",
       "      <td>0</td>\n",
       "      <td>0</td>\n",
       "      <td>0</td>\n",
       "      <td>0</td>\n",
       "      <td>1</td>\n",
       "      <td>0</td>\n",
       "      <td>0</td>\n",
       "      <td>0</td>\n",
       "      <td>0</td>\n",
       "    </tr>\n",
       "    <tr>\n",
       "      <th>1</th>\n",
       "      <td>0</td>\n",
       "      <td>1</td>\n",
       "      <td>0</td>\n",
       "      <td>1</td>\n",
       "      <td>0</td>\n",
       "      <td>0</td>\n",
       "      <td>0</td>\n",
       "      <td>0</td>\n",
       "      <td>0</td>\n",
       "      <td>0</td>\n",
       "      <td>...</td>\n",
       "      <td>0</td>\n",
       "      <td>0</td>\n",
       "      <td>0</td>\n",
       "      <td>0</td>\n",
       "      <td>0</td>\n",
       "      <td>1</td>\n",
       "      <td>0</td>\n",
       "      <td>0</td>\n",
       "      <td>0</td>\n",
       "      <td>0</td>\n",
       "    </tr>\n",
       "    <tr>\n",
       "      <th>2</th>\n",
       "      <td>0</td>\n",
       "      <td>1</td>\n",
       "      <td>0</td>\n",
       "      <td>1</td>\n",
       "      <td>0</td>\n",
       "      <td>0</td>\n",
       "      <td>0</td>\n",
       "      <td>0</td>\n",
       "      <td>0</td>\n",
       "      <td>0</td>\n",
       "      <td>...</td>\n",
       "      <td>0</td>\n",
       "      <td>0</td>\n",
       "      <td>0</td>\n",
       "      <td>0</td>\n",
       "      <td>0</td>\n",
       "      <td>1</td>\n",
       "      <td>0</td>\n",
       "      <td>0</td>\n",
       "      <td>0</td>\n",
       "      <td>0</td>\n",
       "    </tr>\n",
       "    <tr>\n",
       "      <th>3</th>\n",
       "      <td>0</td>\n",
       "      <td>1</td>\n",
       "      <td>0</td>\n",
       "      <td>1</td>\n",
       "      <td>0</td>\n",
       "      <td>0</td>\n",
       "      <td>1</td>\n",
       "      <td>0</td>\n",
       "      <td>0</td>\n",
       "      <td>0</td>\n",
       "      <td>...</td>\n",
       "      <td>0</td>\n",
       "      <td>0</td>\n",
       "      <td>0</td>\n",
       "      <td>0</td>\n",
       "      <td>0</td>\n",
       "      <td>0</td>\n",
       "      <td>0</td>\n",
       "      <td>0</td>\n",
       "      <td>0</td>\n",
       "      <td>1</td>\n",
       "    </tr>\n",
       "    <tr>\n",
       "      <th>4</th>\n",
       "      <td>0</td>\n",
       "      <td>1</td>\n",
       "      <td>0</td>\n",
       "      <td>0</td>\n",
       "      <td>0</td>\n",
       "      <td>0</td>\n",
       "      <td>0</td>\n",
       "      <td>0</td>\n",
       "      <td>0</td>\n",
       "      <td>0</td>\n",
       "      <td>...</td>\n",
       "      <td>0</td>\n",
       "      <td>0</td>\n",
       "      <td>0</td>\n",
       "      <td>0</td>\n",
       "      <td>0</td>\n",
       "      <td>1</td>\n",
       "      <td>0</td>\n",
       "      <td>0</td>\n",
       "      <td>0</td>\n",
       "      <td>0</td>\n",
       "    </tr>\n",
       "  </tbody>\n",
       "</table>\n",
       "<p>5 rows × 473 columns</p>\n",
       "</div>"
      ],
      "text/plain": [
       "   trg_pd  trg_grace  var_001  var_002  var_003  var_004  var_005  var_006  \\\n",
       "0       0          0        0        1        0        0        1        0   \n",
       "1       0          1        0        1        0        0        0        0   \n",
       "2       0          1        0        1        0        0        0        0   \n",
       "3       0          1        0        1        0        0        1        0   \n",
       "4       0          1        0        0        0        0        0        0   \n",
       "\n",
       "   var_007  var_008  ...  var_062_mts  var_062_orient  var_062_pochta  \\\n",
       "0        0        0  ...            0               0               0   \n",
       "1        0        0  ...            0               0               0   \n",
       "2        0        0  ...            0               0               0   \n",
       "3        0        0  ...            0               0               0   \n",
       "4        0        0  ...            0               0               0   \n",
       "\n",
       "   var_062_renaissance  var_062_rosbank  var_062_sbrf  var_062_tinkoff  \\\n",
       "0                    0                0             1                0   \n",
       "1                    0                0             1                0   \n",
       "2                    0                0             1                0   \n",
       "3                    0                0             0                0   \n",
       "4                    0                0             1                0   \n",
       "\n",
       "   var_062_ubrr  var_062_uralsib  var_062_vtb24  \n",
       "0             0                0              0  \n",
       "1             0                0              0  \n",
       "2             0                0              0  \n",
       "3             0                0              1  \n",
       "4             0                0              0  \n",
       "\n",
       "[5 rows x 473 columns]"
      ]
     },
     "execution_count": 6,
     "metadata": {},
     "output_type": "execute_result"
    }
   ],
   "source": [
    "data = pd.get_dummies(data)\n",
    "y1 = data['trg_pd']\n",
    "y2 = data['trg_grace']\n",
    "data.head()"
   ]
  },
  {
   "cell_type": "code",
   "execution_count": 7,
   "metadata": {},
   "outputs": [],
   "source": [
    "from sklearn.preprocessing import StandardScaler\n",
    "scaler = StandardScaler()\n",
    "data = pd.DataFrame(scaler.fit_transform(data), columns = data.columns)"
   ]
  },
  {
   "cell_type": "code",
   "execution_count": 8,
   "metadata": {},
   "outputs": [
    {
     "data": {
      "text/plain": [
       "pandas.core.frame.DataFrame"
      ]
     },
     "execution_count": 8,
     "metadata": {},
     "output_type": "execute_result"
    }
   ],
   "source": [
    "type(data)"
   ]
  },
  {
   "cell_type": "markdown",
   "metadata": {},
   "source": [
    "# Матрица корреляции"
   ]
  },
  {
   "cell_type": "code",
   "execution_count": 9,
   "metadata": {},
   "outputs": [
    {
     "data": {
      "text/plain": [
       "trg_pd       0.084311\n",
       "trg_grace    1.000000\n",
       "var_003      0.101501\n",
       "var_014      0.079773\n",
       "var_103      0.080533\n",
       "var_120      0.076376\n",
       "var_125      0.087561\n",
       "var_132      0.088757\n",
       "var_138      0.103137\n",
       "var_145      0.079343\n",
       "var_174      0.079416\n",
       "var_180      0.076046\n",
       "var_186      0.072935\n",
       "var_242      0.090911\n",
       "var_243      0.072234\n",
       "var_283      0.073799\n",
       "var_290      0.080884\n",
       "var_310      0.075636\n",
       "var_313      0.073898\n",
       "var_318      0.082778\n",
       "var_335      0.116950\n",
       "var_344      0.078729\n",
       "var_357      0.081448\n",
       "var_365      0.092984\n",
       "var_375      0.091733\n",
       "var_387      0.072746\n",
       "var_396      0.070013\n",
       "var_409      0.071311\n",
       "var_447      0.094968\n",
       "var_448      0.076736\n",
       "var_449      0.103489\n",
       "var_467      0.077650\n",
       "Name: trg_grace, dtype: float64"
      ]
     },
     "execution_count": 9,
     "metadata": {},
     "output_type": "execute_result"
    }
   ],
   "source": [
    "cor = data.corr()\n",
    "cor_target = abs(cor['trg_grace'])\n",
    "relevant_features = cor_target[cor_target > 0.07]\n",
    "relevant_features"
   ]
  },
  {
   "cell_type": "code",
   "execution_count": 10,
   "metadata": {},
   "outputs": [
    {
     "data": {
      "text/plain": [
       "<Figure size 2000x2000 with 2 Axes>"
      ]
     },
     "metadata": {},
     "output_type": "display_data"
    }
   ],
   "source": [
    "import seaborn as sns\n",
    "from matplotlib import pyplot as plt\n",
    "relevant_cor = data[relevant_features.index].corr()\n",
    "plt.figure(figsize = (20, 20))\n",
    "sns.heatmap(relevant_cor, annot=True, cmap=plt.cm.Reds)\n",
    "plt.show()"
   ]
  },
  {
   "cell_type": "code",
   "execution_count": 11,
   "metadata": {},
   "outputs": [
    {
     "data": {
      "image/png": "[encoded data removed]",
      "text/plain": [
       "<Figure size 1440x1440 with 2 Axes>"
      ]
     },
     "metadata": {
      "needs_background": "light"
     },
     "output_type": "display_data"
    }
   ],
   "source": [
    "plt.figure(figsize = (20, 20))\n",
    "sns.heatmap(data[relevant_features.drop(['var_174', 'var_180', 'var_120', 'var_243', \n",
    "                                        'var_313', 'var_310', 'var_396', 'var_365', 'var_387', 'var_103', 'var_448', 'var_125',\n",
    "                                        'var_409', 'var_290', 'var_357', 'var_283', 'var_145']).index].corr(), annot=True, cmap=plt.cm.Reds)\n",
    "plt.show()"
   ]
  },
  {
   "cell_type": "code",
   "execution_count": 12,
   "metadata": {},
   "outputs": [],
   "source": [
    "features1 = relevant_features.drop(['var_174', 'var_180', 'var_120', 'var_243', \n",
    "                                        'var_313', 'var_310', 'var_396', 'var_365', 'var_387', 'var_103', 'var_448', 'var_125',\n",
    "                                        'var_409', 'var_290', 'var_357', 'var_283', 'var_145', 'trg_pd', 'trg_grace']).index"
   ]
  },
  {
   "cell_type": "markdown",
   "metadata": {},
   "source": [
    "# Backward Elimination"
   ]
  },
  {
   "cell_type": "code",
   "execution_count": 13,
   "metadata": {},
   "outputs": [],
   "source": [
    "features_be = cor_target[cor_target > 0.06]"
   ]
  },
  {
   "cell_type": "code",
   "execution_count": 14,
   "metadata": {},
   "outputs": [
    {
     "data": {
      "text/html": [
       "<div>\n",
       "<style scoped>\n",
       "    .dataframe tbody tr th:only-of-type {\n",
       "        vertical-align: middle;\n",
       "    }\n",
       "\n",
       "    .dataframe tbody tr th {\n",
       "        vertical-align: top;\n",
       "    }\n",
       "\n",
       "    .dataframe thead th {\n",
       "        text-align: right;\n",
       "    }\n",
       "</style>\n",
       "<table border=\"1\" class=\"dataframe\">\n",
       "  <thead>\n",
       "    <tr style=\"text-align: right;\">\n",
       "      <th></th>\n",
       "      <th>var_003</th>\n",
       "      <th>var_007</th>\n",
       "      <th>var_014</th>\n",
       "      <th>var_037</th>\n",
       "      <th>var_053</th>\n",
       "      <th>var_054</th>\n",
       "      <th>var_103</th>\n",
       "      <th>var_120</th>\n",
       "      <th>var_125</th>\n",
       "      <th>var_132</th>\n",
       "      <th>...</th>\n",
       "      <th>var_394</th>\n",
       "      <th>var_396</th>\n",
       "      <th>var_409</th>\n",
       "      <th>var_416</th>\n",
       "      <th>var_447</th>\n",
       "      <th>var_448</th>\n",
       "      <th>var_449</th>\n",
       "      <th>var_466</th>\n",
       "      <th>var_467</th>\n",
       "      <th>var_062_sbrf</th>\n",
       "    </tr>\n",
       "  </thead>\n",
       "  <tbody>\n",
       "    <tr>\n",
       "      <th>0</th>\n",
       "      <td>-0.767992</td>\n",
       "      <td>-0.480494</td>\n",
       "      <td>-0.666533</td>\n",
       "      <td>-0.220156</td>\n",
       "      <td>-0.374191</td>\n",
       "      <td>-0.378436</td>\n",
       "      <td>-0.535937</td>\n",
       "      <td>-0.515387</td>\n",
       "      <td>-0.572262</td>\n",
       "      <td>0.668192</td>\n",
       "      <td>...</td>\n",
       "      <td>1.020762</td>\n",
       "      <td>-0.555604</td>\n",
       "      <td>-0.597306</td>\n",
       "      <td>-0.539924</td>\n",
       "      <td>-0.5055</td>\n",
       "      <td>-0.588053</td>\n",
       "      <td>-0.883338</td>\n",
       "      <td>1.458977</td>\n",
       "      <td>-0.453220</td>\n",
       "      <td>0.655344</td>\n",
       "    </tr>\n",
       "    <tr>\n",
       "      <th>1</th>\n",
       "      <td>-0.767992</td>\n",
       "      <td>-0.480494</td>\n",
       "      <td>-0.666533</td>\n",
       "      <td>-0.220156</td>\n",
       "      <td>-0.374191</td>\n",
       "      <td>-0.378436</td>\n",
       "      <td>-0.535937</td>\n",
       "      <td>-0.515387</td>\n",
       "      <td>-0.572262</td>\n",
       "      <td>0.668192</td>\n",
       "      <td>...</td>\n",
       "      <td>-1.195033</td>\n",
       "      <td>-0.555604</td>\n",
       "      <td>-0.421818</td>\n",
       "      <td>-0.443955</td>\n",
       "      <td>-0.5055</td>\n",
       "      <td>-0.588053</td>\n",
       "      <td>-0.551405</td>\n",
       "      <td>-0.698212</td>\n",
       "      <td>-0.453220</td>\n",
       "      <td>0.655344</td>\n",
       "    </tr>\n",
       "    <tr>\n",
       "      <th>2</th>\n",
       "      <td>-0.767992</td>\n",
       "      <td>-0.480494</td>\n",
       "      <td>-0.666533</td>\n",
       "      <td>-0.220156</td>\n",
       "      <td>-0.374191</td>\n",
       "      <td>-0.378436</td>\n",
       "      <td>0.868968</td>\n",
       "      <td>0.900612</td>\n",
       "      <td>-0.572262</td>\n",
       "      <td>-1.496146</td>\n",
       "      <td>...</td>\n",
       "      <td>-0.087135</td>\n",
       "      <td>-0.555604</td>\n",
       "      <td>0.537690</td>\n",
       "      <td>0.387774</td>\n",
       "      <td>-0.5055</td>\n",
       "      <td>-0.588053</td>\n",
       "      <td>0.610358</td>\n",
       "      <td>-0.698212</td>\n",
       "      <td>-0.453220</td>\n",
       "      <td>0.655344</td>\n",
       "    </tr>\n",
       "    <tr>\n",
       "      <th>3</th>\n",
       "      <td>-0.767992</td>\n",
       "      <td>-0.480494</td>\n",
       "      <td>1.500300</td>\n",
       "      <td>-0.220156</td>\n",
       "      <td>-0.374191</td>\n",
       "      <td>-0.378436</td>\n",
       "      <td>-0.535937</td>\n",
       "      <td>-0.515387</td>\n",
       "      <td>-0.572262</td>\n",
       "      <td>0.668192</td>\n",
       "      <td>...</td>\n",
       "      <td>2.128659</td>\n",
       "      <td>0.736039</td>\n",
       "      <td>-0.022814</td>\n",
       "      <td>-0.188038</td>\n",
       "      <td>-0.5055</td>\n",
       "      <td>0.846972</td>\n",
       "      <td>0.610358</td>\n",
       "      <td>1.458977</td>\n",
       "      <td>1.677577</td>\n",
       "      <td>-1.525916</td>\n",
       "    </tr>\n",
       "    <tr>\n",
       "      <th>4</th>\n",
       "      <td>-0.767992</td>\n",
       "      <td>-0.480494</td>\n",
       "      <td>1.500300</td>\n",
       "      <td>-0.220156</td>\n",
       "      <td>-0.374191</td>\n",
       "      <td>-0.378436</td>\n",
       "      <td>-0.535937</td>\n",
       "      <td>-0.515387</td>\n",
       "      <td>-0.572262</td>\n",
       "      <td>0.668192</td>\n",
       "      <td>...</td>\n",
       "      <td>-0.087135</td>\n",
       "      <td>0.994368</td>\n",
       "      <td>-0.576986</td>\n",
       "      <td>-0.475945</td>\n",
       "      <td>-0.5055</td>\n",
       "      <td>0.846972</td>\n",
       "      <td>-0.883338</td>\n",
       "      <td>-0.698212</td>\n",
       "      <td>-0.453220</td>\n",
       "      <td>0.655344</td>\n",
       "    </tr>\n",
       "  </tbody>\n",
       "</table>\n",
       "<p>5 rows × 48 columns</p>\n",
       "</div>"
      ],
      "text/plain": [
       "    var_003   var_007   var_014   var_037   var_053   var_054   var_103  \\\n",
       "0 -0.767992 -0.480494 -0.666533 -0.220156 -0.374191 -0.378436 -0.535937   \n",
       "1 -0.767992 -0.480494 -0.666533 -0.220156 -0.374191 -0.378436 -0.535937   \n",
       "2 -0.767992 -0.480494 -0.666533 -0.220156 -0.374191 -0.378436  0.868968   \n",
       "3 -0.767992 -0.480494  1.500300 -0.220156 -0.374191 -0.378436 -0.535937   \n",
       "4 -0.767992 -0.480494  1.500300 -0.220156 -0.374191 -0.378436 -0.535937   \n",
       "\n",
       "    var_120   var_125   var_132  ...   var_394   var_396   var_409   var_416  \\\n",
       "0 -0.515387 -0.572262  0.668192  ...  1.020762 -0.555604 -0.597306 -0.539924   \n",
       "1 -0.515387 -0.572262  0.668192  ... -1.195033 -0.555604 -0.421818 -0.443955   \n",
       "2  0.900612 -0.572262 -1.496146  ... -0.087135 -0.555604  0.537690  0.387774   \n",
       "3 -0.515387 -0.572262  0.668192  ...  2.128659  0.736039 -0.022814 -0.188038   \n",
       "4 -0.515387 -0.572262  0.668192  ... -0.087135  0.994368 -0.576986 -0.475945   \n",
       "\n",
       "   var_447   var_448   var_449   var_466   var_467  var_062_sbrf  \n",
       "0  -0.5055 -0.588053 -0.883338  1.458977 -0.453220      0.655344  \n",
       "1  -0.5055 -0.588053 -0.551405 -0.698212 -0.453220      0.655344  \n",
       "2  -0.5055 -0.588053  0.610358 -0.698212 -0.453220      0.655344  \n",
       "3  -0.5055  0.846972  0.610358  1.458977  1.677577     -1.525916  \n",
       "4  -0.5055  0.846972 -0.883338 -0.698212 -0.453220      0.655344  \n",
       "\n",
       "[5 rows x 48 columns]"
      ]
     },
     "execution_count": 14,
     "metadata": {},
     "output_type": "execute_result"
    }
   ],
   "source": [
    "data_be = data[features_be.index]\n",
    "data_be = data_be.drop(columns=['trg_pd', 'trg_grace'])\n",
    "data_be.head()"
   ]
  },
  {
   "cell_type": "code",
   "execution_count": 15,
   "metadata": {},
   "outputs": [
    {
     "name": "stderr",
     "output_type": "stream",
     "text": [
      "C:\\ProgramData\\Anaconda3\\lib\\site-packages\\numpy\\core\\fromnumeric.py:2389: FutureWarning: Method .ptp is deprecated and will be removed in a future version. Use numpy.ptp instead.\n",
      "  return ptp(axis=axis, out=out, **kwargs)\n"
     ]
    },
    {
     "data": {
      "text/plain": [
       "['var_003',\n",
       " 'var_014',\n",
       " 'var_037',\n",
       " 'var_054',\n",
       " 'var_125',\n",
       " 'var_132',\n",
       " 'var_138',\n",
       " 'var_145',\n",
       " 'var_182',\n",
       " 'var_186',\n",
       " 'var_194',\n",
       " 'var_243',\n",
       " 'var_291',\n",
       " 'var_295',\n",
       " 'var_296',\n",
       " 'var_310',\n",
       " 'var_313',\n",
       " 'var_318',\n",
       " 'var_335',\n",
       " 'var_344',\n",
       " 'var_350',\n",
       " 'var_357',\n",
       " 'var_365',\n",
       " 'var_375',\n",
       " 'var_394',\n",
       " 'var_447',\n",
       " 'var_449',\n",
       " 'var_466',\n",
       " 'var_467',\n",
       " 'var_062_sbrf']"
      ]
     },
     "execution_count": 15,
     "metadata": {},
     "output_type": "execute_result"
    }
   ],
   "source": [
    "import statsmodels.api as sm\n",
    "cols = list(data_be.columns)\n",
    "pmax = 1\n",
    "while len(cols) > 0:\n",
    "    p = []\n",
    "    data_be_1 = data_be[cols]\n",
    "    data_be_1 = sm.add_constant(data_be_1)\n",
    "    model = sm.OLS(list(y2), data_be_1).fit() # y2 - grace\n",
    "    p = pd.Series(model.pvalues.values[1:], index = cols)      \n",
    "    pmax = max(p)\n",
    "    feature_with_pmax = p.idxmax()\n",
    "    if pmax > 0.05:\n",
    "        cols.remove(feature_with_pmax)\n",
    "    else:\n",
    "        break\n",
    "selected_features_be = cols\n",
    "selected_features_be"
   ]
  },
  {
   "cell_type": "code",
   "execution_count": 16,
   "metadata": {},
   "outputs": [
    {
     "data": {
      "text/plain": [
       "30"
      ]
     },
     "execution_count": 16,
     "metadata": {},
     "output_type": "execute_result"
    }
   ],
   "source": [
    "len(selected_features_be)"
   ]
  },
  {
   "cell_type": "markdown",
   "metadata": {
    "collapsed": true
   },
   "source": [
    "# Lasso regression"
   ]
  },
  {
   "cell_type": "code",
   "execution_count": 17,
   "metadata": {},
   "outputs": [],
   "source": [
    "from sklearn.linear_model import SGDClassifier\n",
    "from sklearn.model_selection import GridSearchCV\n",
    "clf = SGDClassifier(loss='log', penalty='l1')"
   ]
  },
  {
   "cell_type": "code",
   "execution_count": 18,
   "metadata": {},
   "outputs": [
    {
     "data": {
      "text/html": [
       "<div>\n",
       "<style scoped>\n",
       "    .dataframe tbody tr th:only-of-type {\n",
       "        vertical-align: middle;\n",
       "    }\n",
       "\n",
       "    .dataframe tbody tr th {\n",
       "        vertical-align: top;\n",
       "    }\n",
       "\n",
       "    .dataframe thead th {\n",
       "        text-align: right;\n",
       "    }\n",
       "</style>\n",
       "<table border=\"1\" class=\"dataframe\">\n",
       "  <thead>\n",
       "    <tr style=\"text-align: right;\">\n",
       "      <th></th>\n",
       "      <th>var_001</th>\n",
       "      <th>var_002</th>\n",
       "      <th>var_003</th>\n",
       "      <th>var_004</th>\n",
       "      <th>var_005</th>\n",
       "      <th>var_006</th>\n",
       "      <th>var_007</th>\n",
       "      <th>var_008</th>\n",
       "      <th>var_009</th>\n",
       "      <th>var_010</th>\n",
       "      <th>...</th>\n",
       "      <th>var_062_mts</th>\n",
       "      <th>var_062_orient</th>\n",
       "      <th>var_062_pochta</th>\n",
       "      <th>var_062_renaissance</th>\n",
       "      <th>var_062_rosbank</th>\n",
       "      <th>var_062_sbrf</th>\n",
       "      <th>var_062_tinkoff</th>\n",
       "      <th>var_062_ubrr</th>\n",
       "      <th>var_062_uralsib</th>\n",
       "      <th>var_062_vtb24</th>\n",
       "    </tr>\n",
       "  </thead>\n",
       "  <tbody>\n",
       "    <tr>\n",
       "      <th>0</th>\n",
       "      <td>-0.167919</td>\n",
       "      <td>0.673893</td>\n",
       "      <td>-0.767992</td>\n",
       "      <td>-0.073527</td>\n",
       "      <td>1.374671</td>\n",
       "      <td>-0.070758</td>\n",
       "      <td>-0.480494</td>\n",
       "      <td>-0.125601</td>\n",
       "      <td>0.655862</td>\n",
       "      <td>-0.166119</td>\n",
       "      <td>...</td>\n",
       "      <td>-0.046598</td>\n",
       "      <td>-0.058819</td>\n",
       "      <td>-0.137902</td>\n",
       "      <td>-0.035815</td>\n",
       "      <td>-0.126636</td>\n",
       "      <td>0.655344</td>\n",
       "      <td>-0.087093</td>\n",
       "      <td>-0.087736</td>\n",
       "      <td>-0.141723</td>\n",
       "      <td>-0.360996</td>\n",
       "    </tr>\n",
       "    <tr>\n",
       "      <th>1</th>\n",
       "      <td>-0.167919</td>\n",
       "      <td>0.673893</td>\n",
       "      <td>-0.767992</td>\n",
       "      <td>-0.073527</td>\n",
       "      <td>-0.727447</td>\n",
       "      <td>-0.070758</td>\n",
       "      <td>-0.480494</td>\n",
       "      <td>-0.125601</td>\n",
       "      <td>0.655862</td>\n",
       "      <td>-0.166119</td>\n",
       "      <td>...</td>\n",
       "      <td>-0.046598</td>\n",
       "      <td>-0.058819</td>\n",
       "      <td>-0.137902</td>\n",
       "      <td>-0.035815</td>\n",
       "      <td>-0.126636</td>\n",
       "      <td>0.655344</td>\n",
       "      <td>-0.087093</td>\n",
       "      <td>-0.087736</td>\n",
       "      <td>-0.141723</td>\n",
       "      <td>-0.360996</td>\n",
       "    </tr>\n",
       "    <tr>\n",
       "      <th>2</th>\n",
       "      <td>-0.167919</td>\n",
       "      <td>0.673893</td>\n",
       "      <td>-0.767992</td>\n",
       "      <td>-0.073527</td>\n",
       "      <td>-0.727447</td>\n",
       "      <td>-0.070758</td>\n",
       "      <td>-0.480494</td>\n",
       "      <td>-0.125601</td>\n",
       "      <td>0.655862</td>\n",
       "      <td>-0.166119</td>\n",
       "      <td>...</td>\n",
       "      <td>-0.046598</td>\n",
       "      <td>-0.058819</td>\n",
       "      <td>-0.137902</td>\n",
       "      <td>-0.035815</td>\n",
       "      <td>-0.126636</td>\n",
       "      <td>0.655344</td>\n",
       "      <td>-0.087093</td>\n",
       "      <td>-0.087736</td>\n",
       "      <td>-0.141723</td>\n",
       "      <td>-0.360996</td>\n",
       "    </tr>\n",
       "    <tr>\n",
       "      <th>3</th>\n",
       "      <td>-0.167919</td>\n",
       "      <td>0.673893</td>\n",
       "      <td>-0.767992</td>\n",
       "      <td>-0.073527</td>\n",
       "      <td>1.374671</td>\n",
       "      <td>-0.070758</td>\n",
       "      <td>-0.480494</td>\n",
       "      <td>-0.125601</td>\n",
       "      <td>0.655862</td>\n",
       "      <td>-0.166119</td>\n",
       "      <td>...</td>\n",
       "      <td>-0.046598</td>\n",
       "      <td>-0.058819</td>\n",
       "      <td>-0.137902</td>\n",
       "      <td>-0.035815</td>\n",
       "      <td>-0.126636</td>\n",
       "      <td>-1.525916</td>\n",
       "      <td>-0.087093</td>\n",
       "      <td>-0.087736</td>\n",
       "      <td>-0.141723</td>\n",
       "      <td>2.770113</td>\n",
       "    </tr>\n",
       "    <tr>\n",
       "      <th>4</th>\n",
       "      <td>-0.167919</td>\n",
       "      <td>-1.483916</td>\n",
       "      <td>-0.767992</td>\n",
       "      <td>-0.073527</td>\n",
       "      <td>-0.727447</td>\n",
       "      <td>-0.070758</td>\n",
       "      <td>-0.480494</td>\n",
       "      <td>-0.125601</td>\n",
       "      <td>-1.524711</td>\n",
       "      <td>-0.166119</td>\n",
       "      <td>...</td>\n",
       "      <td>-0.046598</td>\n",
       "      <td>-0.058819</td>\n",
       "      <td>-0.137902</td>\n",
       "      <td>-0.035815</td>\n",
       "      <td>-0.126636</td>\n",
       "      <td>0.655344</td>\n",
       "      <td>-0.087093</td>\n",
       "      <td>-0.087736</td>\n",
       "      <td>-0.141723</td>\n",
       "      <td>-0.360996</td>\n",
       "    </tr>\n",
       "  </tbody>\n",
       "</table>\n",
       "<p>5 rows × 471 columns</p>\n",
       "</div>"
      ],
      "text/plain": [
       "    var_001   var_002   var_003   var_004   var_005   var_006   var_007  \\\n",
       "0 -0.167919  0.673893 -0.767992 -0.073527  1.374671 -0.070758 -0.480494   \n",
       "1 -0.167919  0.673893 -0.767992 -0.073527 -0.727447 -0.070758 -0.480494   \n",
       "2 -0.167919  0.673893 -0.767992 -0.073527 -0.727447 -0.070758 -0.480494   \n",
       "3 -0.167919  0.673893 -0.767992 -0.073527  1.374671 -0.070758 -0.480494   \n",
       "4 -0.167919 -1.483916 -0.767992 -0.073527 -0.727447 -0.070758 -0.480494   \n",
       "\n",
       "    var_008   var_009   var_010  ...  var_062_mts  var_062_orient  \\\n",
       "0 -0.125601  0.655862 -0.166119  ...    -0.046598       -0.058819   \n",
       "1 -0.125601  0.655862 -0.166119  ...    -0.046598       -0.058819   \n",
       "2 -0.125601  0.655862 -0.166119  ...    -0.046598       -0.058819   \n",
       "3 -0.125601  0.655862 -0.166119  ...    -0.046598       -0.058819   \n",
       "4 -0.125601 -1.524711 -0.166119  ...    -0.046598       -0.058819   \n",
       "\n",
       "   var_062_pochta  var_062_renaissance  var_062_rosbank  var_062_sbrf  \\\n",
       "0       -0.137902            -0.035815        -0.126636      0.655344   \n",
       "1       -0.137902            -0.035815        -0.126636      0.655344   \n",
       "2       -0.137902            -0.035815        -0.126636      0.655344   \n",
       "3       -0.137902            -0.035815        -0.126636     -1.525916   \n",
       "4       -0.137902            -0.035815        -0.126636      0.655344   \n",
       "\n",
       "   var_062_tinkoff  var_062_ubrr  var_062_uralsib  var_062_vtb24  \n",
       "0        -0.087093     -0.087736        -0.141723      -0.360996  \n",
       "1        -0.087093     -0.087736        -0.141723      -0.360996  \n",
       "2        -0.087093     -0.087736        -0.141723      -0.360996  \n",
       "3        -0.087093     -0.087736        -0.141723       2.770113  \n",
       "4        -0.087093     -0.087736        -0.141723      -0.360996  \n",
       "\n",
       "[5 rows x 471 columns]"
      ]
     },
     "execution_count": 18,
     "metadata": {},
     "output_type": "execute_result"
    }
   ],
   "source": [
    "features_lasso = cor_target[cor_target > 0]\n",
    "data_lasso = data[features_lasso.index]\n",
    "data_lasso = data_lasso.drop(columns=['trg_pd', 'trg_grace'])\n",
    "data_lasso.head()"
   ]
  },
  {
   "cell_type": "code",
   "execution_count": 19,
   "metadata": {},
   "outputs": [
    {
     "name": "stdout",
     "output_type": "stream",
     "text": [
      "[[-6.38027864e-02  0.00000000e+00  8.77920243e-02  1.48460863e-02\n",
      "  -7.41344833e-02  0.00000000e+00  0.00000000e+00  0.00000000e+00\n",
      "   2.31592598e-02  6.23968320e-02  6.88165385e-02 -2.80078974e-02\n",
      "  -9.69973432e-04  0.00000000e+00  0.00000000e+00  0.00000000e+00\n",
      "   0.00000000e+00  0.00000000e+00  0.00000000e+00  2.52079975e-02\n",
      "   0.00000000e+00  0.00000000e+00  0.00000000e+00  0.00000000e+00\n",
      "  -1.19634616e-02  0.00000000e+00  0.00000000e+00  0.00000000e+00\n",
      "  -1.16494979e-02  4.83197901e-02  0.00000000e+00  0.00000000e+00\n",
      "  -6.34201009e-02 -4.39318944e-02  1.97843697e-02  0.00000000e+00\n",
      "   6.15838542e-03  0.00000000e+00  0.00000000e+00  0.00000000e+00\n",
      "   0.00000000e+00  8.58837074e-02  0.00000000e+00  0.00000000e+00\n",
      "   1.57491698e-02  0.00000000e+00 -8.35241365e-02  0.00000000e+00\n",
      "   0.00000000e+00  0.00000000e+00  0.00000000e+00  6.00996465e-02\n",
      "   0.00000000e+00  8.86445636e-03  0.00000000e+00  0.00000000e+00\n",
      "  -4.24363931e-02  8.39317954e-02  0.00000000e+00  0.00000000e+00\n",
      "   5.28945727e-02 -5.98014365e-02  0.00000000e+00 -3.14996122e-02\n",
      "  -1.84884473e-02  0.00000000e+00  0.00000000e+00  0.00000000e+00\n",
      "   0.00000000e+00 -1.22066408e-01  7.03982267e-02  0.00000000e+00\n",
      "  -4.14636829e-02  0.00000000e+00  0.00000000e+00  0.00000000e+00\n",
      "   0.00000000e+00  0.00000000e+00 -1.33422901e-03  0.00000000e+00\n",
      "  -4.94958849e-02  8.70217470e-02  0.00000000e+00  0.00000000e+00\n",
      "   0.00000000e+00  6.48151420e-02  0.00000000e+00 -1.31886789e-01\n",
      "  -9.19411909e-03 -8.18300950e-02 -1.31619866e-02 -3.63378226e-01\n",
      "   7.12550871e-03 -4.88588081e-02  0.00000000e+00  0.00000000e+00\n",
      "   0.00000000e+00 -5.00575150e-02 -7.89143209e-02  0.00000000e+00\n",
      "   0.00000000e+00  0.00000000e+00  0.00000000e+00  1.13204083e-02\n",
      "  -7.97217877e-03  0.00000000e+00  0.00000000e+00  1.08001942e-01\n",
      "   0.00000000e+00  0.00000000e+00 -7.59794126e-02  0.00000000e+00\n",
      "  -1.69411775e-01  0.00000000e+00  3.30222467e-01  0.00000000e+00\n",
      "   0.00000000e+00  9.10154170e-02  0.00000000e+00 -1.01515744e-01\n",
      "   0.00000000e+00  0.00000000e+00  0.00000000e+00  0.00000000e+00\n",
      "  -2.17618797e-01 -9.33557215e-02  0.00000000e+00  0.00000000e+00\n",
      "   0.00000000e+00  6.94676192e-01  0.00000000e+00  0.00000000e+00\n",
      "   4.71957302e-02  0.00000000e+00  0.00000000e+00  1.35752389e-01\n",
      "   0.00000000e+00 -4.13923235e-02  0.00000000e+00  1.48096550e-01\n",
      "   0.00000000e+00 -6.06746547e-02  0.00000000e+00  1.25753271e-01\n",
      "   0.00000000e+00  5.02849612e-02 -1.15495984e-02  1.72212158e-01\n",
      "   0.00000000e+00  0.00000000e+00  1.41760726e-01  0.00000000e+00\n",
      "   0.00000000e+00 -1.48025784e-02 -6.75593586e-02  3.50884850e-02\n",
      "   0.00000000e+00  1.63210334e-01  0.00000000e+00  0.00000000e+00\n",
      "   0.00000000e+00 -4.55854523e-02  9.58542794e-02  4.97439608e-02\n",
      "   0.00000000e+00  2.87641692e-02 -1.82035547e-01  0.00000000e+00\n",
      "   0.00000000e+00  5.39532200e-02  0.00000000e+00  4.10427046e-01\n",
      "   0.00000000e+00  0.00000000e+00  0.00000000e+00 -4.27598775e-02\n",
      "   0.00000000e+00  0.00000000e+00  0.00000000e+00 -1.19751887e-01\n",
      "  -1.19158378e-01  0.00000000e+00  0.00000000e+00 -1.55422566e-01\n",
      "   0.00000000e+00  0.00000000e+00  1.33463500e-02 -2.19829894e-02\n",
      "   0.00000000e+00  0.00000000e+00  0.00000000e+00  0.00000000e+00\n",
      "  -2.46103171e-01  4.83529710e-02  3.91666582e-02  0.00000000e+00\n",
      "   0.00000000e+00  0.00000000e+00 -6.61070951e-02  0.00000000e+00\n",
      "   1.00678196e-01 -5.12067595e-02  4.41372863e-02  0.00000000e+00\n",
      "   0.00000000e+00 -1.10706564e-02  0.00000000e+00  2.70730646e-02\n",
      "  -1.23320110e-02  0.00000000e+00  0.00000000e+00  0.00000000e+00\n",
      "   7.51983542e-02  0.00000000e+00  0.00000000e+00  0.00000000e+00\n",
      "   8.30470529e-02  9.96573023e-02  0.00000000e+00  0.00000000e+00\n",
      "   6.59430536e-01  0.00000000e+00  0.00000000e+00  0.00000000e+00\n",
      "   6.60689640e-02  0.00000000e+00  0.00000000e+00  0.00000000e+00\n",
      "   1.75458076e-01 -6.07902136e-02  0.00000000e+00  0.00000000e+00\n",
      "  -2.64864994e-02  0.00000000e+00 -6.25584109e-02  0.00000000e+00\n",
      "   2.47258489e-02  0.00000000e+00  0.00000000e+00 -1.60809975e-01\n",
      "   0.00000000e+00 -1.07246930e-01  0.00000000e+00  0.00000000e+00\n",
      "   0.00000000e+00  0.00000000e+00  0.00000000e+00 -1.16900152e-01\n",
      "   0.00000000e+00  0.00000000e+00 -1.64520743e-02  0.00000000e+00\n",
      "   0.00000000e+00  2.77911600e-02 -3.50147969e-02  0.00000000e+00\n",
      "   0.00000000e+00  0.00000000e+00  0.00000000e+00  2.21816123e-02\n",
      "   0.00000000e+00  4.93017068e-02 -4.08170841e-02 -6.35146664e-02\n",
      "   0.00000000e+00  1.48604952e-01 -1.27005450e-01  0.00000000e+00\n",
      "  -6.95937689e-03  0.00000000e+00  0.00000000e+00  0.00000000e+00\n",
      "   0.00000000e+00  0.00000000e+00  0.00000000e+00  0.00000000e+00\n",
      "   0.00000000e+00  0.00000000e+00 -3.26408664e-02 -1.59374246e-01\n",
      "   0.00000000e+00  0.00000000e+00  0.00000000e+00  0.00000000e+00\n",
      "   0.00000000e+00  0.00000000e+00  0.00000000e+00  2.09465818e-01\n",
      "   0.00000000e+00  0.00000000e+00  0.00000000e+00  0.00000000e+00\n",
      "   0.00000000e+00  0.00000000e+00  0.00000000e+00  0.00000000e+00\n",
      "   0.00000000e+00  0.00000000e+00  0.00000000e+00  0.00000000e+00\n",
      "   0.00000000e+00 -1.44048460e-01  0.00000000e+00  0.00000000e+00\n",
      "   0.00000000e+00  1.00780893e-01  0.00000000e+00 -5.23193407e-02\n",
      "   0.00000000e+00  0.00000000e+00 -1.31471168e-03  0.00000000e+00\n",
      "   8.33639846e-02  0.00000000e+00  5.04422185e-01  0.00000000e+00\n",
      "   0.00000000e+00  0.00000000e+00  1.37571510e-01  2.03322052e+01\n",
      "   0.00000000e+00  0.00000000e+00  1.17921640e-01  0.00000000e+00\n",
      "   0.00000000e+00  0.00000000e+00  0.00000000e+00 -3.68985549e-02\n",
      "   0.00000000e+00  0.00000000e+00  0.00000000e+00  1.62786121e-02\n",
      "  -1.30188234e-01  0.00000000e+00  1.51860098e-01  6.82233207e-01\n",
      "   1.90472674e-02  0.00000000e+00  0.00000000e+00  0.00000000e+00\n",
      "   0.00000000e+00  0.00000000e+00  0.00000000e+00  0.00000000e+00\n",
      "   6.72443731e-02  0.00000000e+00  1.31131158e-02  0.00000000e+00\n",
      "  -2.01336300e-01  0.00000000e+00  3.41323894e-02 -4.11124719e-02\n",
      "  -7.12550090e-03  0.00000000e+00  7.14273251e-02 -8.67954117e-01\n",
      "  -8.38329394e-02 -3.51599406e-02 -1.33717085e-01 -6.44957752e-02\n",
      "   0.00000000e+00  0.00000000e+00  0.00000000e+00  0.00000000e+00\n",
      "   0.00000000e+00  6.45417203e-02 -2.67055204e-02 -1.36764391e-01\n",
      "  -1.19202321e-01  0.00000000e+00 -5.06643881e-02  0.00000000e+00\n",
      "   7.25751111e-02  0.00000000e+00  0.00000000e+00  0.00000000e+00\n",
      "   0.00000000e+00 -8.08453924e-02 -6.30594216e-02  3.71666778e-02\n",
      "  -5.54933167e-02  0.00000000e+00 -4.92894202e-02  0.00000000e+00\n",
      "   0.00000000e+00  0.00000000e+00  0.00000000e+00  0.00000000e+00\n",
      "   0.00000000e+00  9.28748087e-02  0.00000000e+00  0.00000000e+00\n",
      "  -4.66256462e-02  9.39260007e-02  0.00000000e+00  0.00000000e+00\n",
      "   0.00000000e+00  6.24762508e-01  0.00000000e+00  0.00000000e+00\n",
      "   1.75108135e-01  0.00000000e+00 -5.33034539e-02 -8.16965983e-03\n",
      "   1.24237371e-01  6.39323664e-03  0.00000000e+00  1.73405658e-01\n",
      "   0.00000000e+00  0.00000000e+00  0.00000000e+00  0.00000000e+00\n",
      "   3.21333082e-02  0.00000000e+00  9.38815700e-02  5.16810214e-02\n",
      "   0.00000000e+00 -9.68968372e-02 -5.43570167e-02  0.00000000e+00\n",
      "   0.00000000e+00  0.00000000e+00  0.00000000e+00 -1.50577209e-01\n",
      "   9.97364505e-02  0.00000000e+00  0.00000000e+00 -1.96093075e-02\n",
      "   0.00000000e+00  0.00000000e+00  5.21427040e-01  1.13923711e-01\n",
      "  -5.90875592e-02  0.00000000e+00  3.41607924e-02  0.00000000e+00\n",
      "   1.84036090e-01  0.00000000e+00  0.00000000e+00  0.00000000e+00\n",
      "  -8.55855632e-03  0.00000000e+00  0.00000000e+00  0.00000000e+00\n",
      "   7.37945343e-03 -6.01139256e-02  0.00000000e+00 -3.82379946e-02\n",
      "  -8.37491593e-02  0.00000000e+00  0.00000000e+00  0.00000000e+00\n",
      "   9.12288511e-02  0.00000000e+00  9.05958866e-02 -4.56854905e-02\n",
      "   0.00000000e+00  0.00000000e+00  0.00000000e+00  0.00000000e+00\n",
      "   0.00000000e+00  2.68162452e-02  0.00000000e+00  0.00000000e+00\n",
      "   0.00000000e+00 -4.39139737e-02  4.72966091e-03  0.00000000e+00\n",
      "   0.00000000e+00 -3.28936610e-02  0.00000000e+00]]\n"
     ]
    }
   ],
   "source": [
    "clf.fit(data_lasso, y2)\n",
    "print(clf.coef_)"
   ]
  },
  {
   "cell_type": "code",
   "execution_count": 20,
   "metadata": {},
   "outputs": [],
   "source": [
    "coef = pd.Series(clf.coef_[0], index = data_lasso.columns)\n",
    "imp_coef = coef.sort_values()"
   ]
  },
  {
   "cell_type": "code",
   "execution_count": 21,
   "metadata": {},
   "outputs": [
    {
     "data": {
      "text/plain": [
       "var_368    -0.867954\n",
       "var_104    -0.363378\n",
       "var_205    -0.246103\n",
       "var_137    -0.217619\n",
       "var_361    -0.201336\n",
       "var_179    -0.182036\n",
       "var_125    -0.169412\n",
       "var_252    -0.160810\n",
       "var_292    -0.159374\n",
       "var_196    -0.155423\n",
       "var_436    -0.150577\n",
       "var_314    -0.144048\n",
       "var_380    -0.136764\n",
       "var_371    -0.133717\n",
       "var_100    -0.131887\n",
       "var_345    -0.130188\n",
       "var_279    -0.127005\n",
       "var_082    -0.122066\n",
       "var_192    -0.119752\n",
       "var_381    -0.119202\n",
       "var_193    -0.119158\n",
       "var_260    -0.116900\n",
       "var_254    -0.107247\n",
       "var_132    -0.101516\n",
       "var_430    -0.096897\n",
       "var_138    -0.093356\n",
       "var_369    -0.083833\n",
       "var_461    -0.083749\n",
       "var_047    -0.083524\n",
       "var_102    -0.081830\n",
       "             ...    \n",
       "var_437     0.099736\n",
       "var_213     0.100678\n",
       "var_318     0.100781\n",
       "var_120     0.108002\n",
       "var_444     0.113924\n",
       "var_335     0.117922\n",
       "var_417     0.124237\n",
       "var_156     0.125753\n",
       "var_148     0.135752\n",
       "var_331     0.137572\n",
       "var_163     0.141761\n",
       "var_152     0.148097\n",
       "var_278     0.148605\n",
       "var_347     0.151860\n",
       "var_170     0.163210\n",
       "var_160     0.172212\n",
       "var_420     0.173406\n",
       "var_413     0.175108\n",
       "var_241     0.175458\n",
       "var_449     0.184036\n",
       "var_300     0.209466\n",
       "var_127     0.330222\n",
       "var_184     0.410427\n",
       "var_327     0.504422\n",
       "var_443     0.521427\n",
       "var_410     0.624763\n",
       "var_233     0.659431\n",
       "var_348     0.682233\n",
       "var_142     0.694676\n",
       "var_332    20.332205\n",
       "Length: 471, dtype: float64"
      ]
     },
     "execution_count": 21,
     "metadata": {},
     "output_type": "execute_result"
    }
   ],
   "source": [
    "imp_coef"
   ]
  },
  {
   "cell_type": "markdown",
   "metadata": {},
   "source": [
    "# PCA"
   ]
  },
  {
   "cell_type": "code",
   "execution_count": 22,
   "metadata": {},
   "outputs": [],
   "source": [
    "from sklearn.decomposition import PCA\n",
    "import numpy as np"
   ]
  },
  {
   "cell_type": "code",
   "execution_count": 23,
   "metadata": {},
   "outputs": [
    {
     "data": {
      "image/png": "[encoded data removed]",
      "text/plain": [
       "<Figure size 432x288 with 1 Axes>"
      ]
     },
     "metadata": {
      "needs_background": "light"
     },
     "output_type": "display_data"
    }
   ],
   "source": [
    "data = data.drop(['trg_pd', 'trg_grace'], axis = 1)\n",
    "pca = PCA().fit(data)\n",
    "plt.plot(np.cumsum(pca.explained_variance_ratio_))\n",
    "plt.xlabel('Number of Components')\n",
    "plt.ylabel('Variance (%)')\n",
    "plt.title('Explained Variance')\n",
    "plt.show()"
   ]
  },
  {
   "cell_type": "code",
   "execution_count": 24,
   "metadata": {},
   "outputs": [
    {
     "data": {
      "text/plain": [
       "0.9390669878143548"
      ]
     },
     "execution_count": 24,
     "metadata": {},
     "output_type": "execute_result"
    }
   ],
   "source": [
    "sum(pca.explained_variance_ratio_[0:200])"
   ]
  },
  {
   "cell_type": "code",
   "execution_count": 25,
   "metadata": {},
   "outputs": [],
   "source": [
    "pca = PCA(n_components=200)\n",
    "data_pca = pca.fit_transform(data)"
   ]
  },
  {
   "cell_type": "code",
   "execution_count": 26,
   "metadata": {},
   "outputs": [],
   "source": [
    "data_pca = pd.DataFrame(data_pca)"
   ]
  },
  {
   "cell_type": "markdown",
   "metadata": {},
   "source": [
    "# Tree classifier"
   ]
  },
  {
   "cell_type": "code",
   "execution_count": 27,
   "metadata": {},
   "outputs": [],
   "source": [
    "from sklearn.ensemble import ExtraTreesClassifier"
   ]
  },
  {
   "cell_type": "code",
   "execution_count": 28,
   "metadata": {},
   "outputs": [
    {
     "name": "stderr",
     "output_type": "stream",
     "text": [
      "C:\\ProgramData\\Anaconda3\\lib\\site-packages\\sklearn\\ensemble\\forest.py:245: FutureWarning: The default value of n_estimators will change from 10 in version 0.20 to 100 in 0.22.\n",
      "  \"10 in version 0.20 to 100 in 0.22.\", FutureWarning)\n"
     ]
    },
    {
     "name": "stdout",
     "output_type": "stream",
     "text": [
      "[5.34882105e-04 1.20920047e-03 4.25147349e-03 1.35711171e-04\n",
      " 3.19499638e-03 1.33814438e-04 2.12093052e-03 4.61439183e-04\n",
      " 2.44835098e-03 5.66833999e-04 1.75942744e-04 5.99860972e-04\n",
      " 2.27188278e-03 1.48789999e-03 1.46880713e-04 8.62075477e-04\n",
      " 1.76525294e-04 1.96914966e-04 4.78930496e-05 6.17889318e-04\n",
      " 2.26097313e-03 8.23748745e-04 1.79828199e-04 1.40429439e-04\n",
      " 2.17730110e-04 3.81845363e-04 2.22708989e-04 3.91576535e-04\n",
      " 2.03039963e-04 1.06762039e-04 1.54730809e-04 2.29344138e-04\n",
      " 1.52541187e-04 4.45748982e-04 1.66559141e-04 1.80612482e-04\n",
      " 9.74565478e-04 1.62512587e-04 3.16610257e-04 1.85567598e-04\n",
      " 6.69132381e-05 1.30407477e-04 9.58056241e-05 1.29767179e-03\n",
      " 8.63174211e-05 1.62877956e-03 1.46863746e-03 8.52365594e-04\n",
      " 2.26486388e-03 2.14168833e-03 6.60355843e-04 1.37406602e-03\n",
      " 1.15305135e-03 1.79259888e-03 1.46272561e-03 1.35065639e-03\n",
      " 1.39681461e-03 5.72776987e-04 1.54058086e-03 8.74936580e-04\n",
      " 1.87518131e-03 2.43753152e-03 2.96595399e-03 3.16289630e-03\n",
      " 3.39475097e-03 2.44850800e-03 3.32784078e-03 2.83513716e-03\n",
      " 2.54061557e-03 3.75044421e-03 2.35663769e-03 6.29315346e-03\n",
      " 1.15957306e-03 1.37636618e-03 9.65036920e-04 2.65563772e-03\n",
      " 2.68096549e-03 7.38154203e-04 2.65621601e-03 2.43463503e-03\n",
      " 2.79252142e-03 1.78356981e-03 2.54693666e-03 1.28627978e-03\n",
      " 2.17955363e-03 2.63092608e-03 2.57308665e-03 1.78307977e-03\n",
      " 2.63337251e-03 2.57747358e-03 1.52698704e-03 1.41411603e-03\n",
      " 2.58534171e-03 2.53702471e-03 2.71689029e-03 2.77202089e-03\n",
      " 1.19539564e-03 2.26770242e-03 3.79980416e-03 3.39920454e-03\n",
      " 1.43295749e-03 7.93852131e-04 2.56881511e-03 2.62601699e-03\n",
      " 2.87577265e-03 1.66113412e-03 2.58266325e-03 1.72351844e-03\n",
      " 2.63476414e-04 3.52689894e-03 2.91817179e-03 2.24885642e-03\n",
      " 2.12138349e-03 2.29333331e-03 1.53241072e-03 2.50006140e-03\n",
      " 2.19840139e-03 2.79890438e-03 3.55058543e-03 3.45002688e-03\n",
      " 2.28873643e-03 1.54809176e-03 2.51260670e-03 3.16900860e-03\n",
      " 2.53681140e-03 4.97437017e-03 4.35574503e-03 1.70007899e-03\n",
      " 2.54037490e-03 1.26242182e-03 2.69571233e-03 1.40694136e-03\n",
      " 3.48850594e-03 2.50602705e-03 2.62379360e-03 2.20637620e-03\n",
      " 2.42055617e-03 5.35228849e-03 2.40325859e-03 2.70933609e-03\n",
      " 1.72238673e-03 2.38125024e-03 2.34270158e-03 3.56852749e-03\n",
      " 2.78570594e-03 2.23650267e-03 1.39394131e-03 3.47685723e-03\n",
      " 2.44196054e-03 2.55698525e-03 1.45915166e-03 9.80455437e-04\n",
      " 6.21285840e-04 1.89289455e-03 2.39948167e-03 1.78751920e-03\n",
      " 5.37238104e-04 2.39775017e-03 2.96667569e-03 2.00728829e-03\n",
      " 2.66480148e-03 2.83054388e-03 2.87226585e-03 2.39868365e-03\n",
      " 8.89529377e-04 9.67047043e-04 2.25784874e-03 2.27183008e-03\n",
      " 1.90834501e-03 1.56652337e-03 8.15330577e-04 2.39272296e-03\n",
      " 2.77585973e-03 1.47233095e-03 2.61997025e-03 1.77167019e-03\n",
      " 2.51132465e-03 8.94374635e-04 2.48191862e-03 2.67288573e-03\n",
      " 2.73861180e-03 1.93127229e-03 3.28006549e-03 3.32491311e-03\n",
      " 2.56894328e-03 1.94155007e-03 1.14485761e-03 2.07959557e-03\n",
      " 2.33714551e-03 2.79789114e-03 2.84301399e-03 2.64806812e-03\n",
      " 2.63777379e-03 2.15409679e-03 1.15122443e-03 2.34385022e-03\n",
      " 2.61729928e-03 2.41901886e-03 1.92845061e-03 2.42452461e-03\n",
      " 2.94990692e-03 2.53032864e-03 3.88835197e-03 2.46240327e-03\n",
      " 2.23980964e-03 3.63753633e-03 2.71770268e-03 2.36446817e-03\n",
      " 1.17912889e-03 2.58805625e-03 2.28630880e-03 2.02552690e-03\n",
      " 2.56094144e-03 2.71407530e-03 2.35434464e-03 3.16287019e-03\n",
      " 2.54410252e-03 2.64918735e-03 2.93763281e-03 1.35966580e-03\n",
      " 3.14233267e-03 3.59278053e-03 1.97890004e-03 1.45855618e-03\n",
      " 2.35644606e-03 1.99202753e-03 8.49569911e-04 2.66148996e-03\n",
      " 2.53620614e-03 2.08622406e-03 1.92807509e-03 3.63198938e-03\n",
      " 3.02971194e-04 3.74884031e-03 1.94867316e-03 1.63698803e-03\n",
      " 1.57245031e-03 9.00687635e-04 2.17319640e-03 2.59171640e-03\n",
      " 2.36930326e-03 3.58027645e-03 1.42788061e-03 2.32890511e-03\n",
      " 2.28373318e-03 1.79973369e-03 2.30260054e-03 2.43941962e-03\n",
      " 1.49082051e-03 1.79942675e-03 2.95777738e-03 2.02470893e-03\n",
      " 2.81922185e-03 2.78070782e-03 1.85236674e-03 2.69265310e-03\n",
      " 2.32301670e-03 2.62556237e-03 2.49632383e-03 2.13229279e-03\n",
      " 1.69650066e-03 3.91972900e-03 1.58219505e-03 2.32224683e-03\n",
      " 2.04062554e-03 2.29575866e-03 2.27014146e-03 2.44314489e-03\n",
      " 2.40708878e-03 2.17340068e-03 1.71221301e-03 1.19669949e-03\n",
      " 2.46057250e-03 2.48704319e-03 1.98110765e-03 1.48515793e-03\n",
      " 2.32629216e-03 2.35627834e-03 3.78322290e-03 1.36417623e-03\n",
      " 3.68710910e-03 1.86375093e-03 5.04451469e-03 1.82746476e-03\n",
      " 2.44526209e-03 2.53774594e-03 1.10927959e-03 2.43892625e-03\n",
      " 2.25668109e-03 1.23083384e-03 2.27229036e-03 8.85967776e-04\n",
      " 2.58956336e-03 2.56226812e-03 1.14132661e-03 4.17257687e-03\n",
      " 8.89348192e-04 3.91635468e-03 2.91580015e-03 3.46717107e-03\n",
      " 3.27187479e-03 1.51621730e-03 2.44450872e-03 9.56523539e-04\n",
      " 5.64549655e-04 1.18749787e-03 2.45445392e-03 2.54178156e-03\n",
      " 1.46580620e-03 4.26264968e-03 1.83950498e-03 2.59378680e-03\n",
      " 1.17411232e-03 2.97616273e-03 2.48804789e-03 1.98167997e-03\n",
      " 3.74032316e-03 2.35007125e-03 3.21470544e-03 1.41852075e-03\n",
      " 1.99323602e-03 2.44230743e-03 2.97655688e-03 1.95483514e-03\n",
      " 3.38769017e-03 2.42770429e-03 2.70478671e-03 1.06222702e-03\n",
      " 2.03450175e-03 3.24273194e-03 2.33291291e-03 1.95956294e-03\n",
      " 2.37399297e-03 2.19999546e-03 2.76153946e-03 2.46133446e-03\n",
      " 1.69410368e-03 3.63921730e-03 2.10525195e-03 2.39517550e-03\n",
      " 2.37774523e-03 2.63987486e-03 2.68231718e-03 2.40834466e-03\n",
      " 2.49633658e-03 1.88248938e-03 2.52051171e-03 2.58588030e-03\n",
      " 2.48762933e-03 5.56722036e-04 1.81129319e-04 2.06667828e-03\n",
      " 2.29929641e-03 2.35988027e-03 1.97080808e-03 2.97759848e-03\n",
      " 2.99581422e-03 2.42203301e-03 2.12866288e-03 2.33311155e-03\n",
      " 3.31355402e-03 3.48747061e-03 2.29334457e-03 2.10523000e-03\n",
      " 1.97454860e-03 2.93439312e-03 3.06138468e-03 1.64796505e-03\n",
      " 2.61478279e-03 2.70488438e-03 2.93166765e-03 2.27817345e-03\n",
      " 2.54584812e-03 3.53452602e-03 1.29535097e-03 2.38925747e-03\n",
      " 2.62170568e-03 4.21251929e-03 9.37775026e-04 2.75655642e-03\n",
      " 1.90213586e-03 4.04292265e-03 1.50609851e-03 1.18065027e-03\n",
      " 6.45588862e-03 2.17954392e-03 2.20301988e-03 2.06332926e-03\n",
      " 2.48143316e-03 2.82943471e-03 1.95439566e-03 2.30571019e-03\n",
      " 2.66867329e-03 2.57657250e-03 9.68949219e-04 2.30507300e-03\n",
      " 3.33206034e-03 2.34768825e-03 2.05933691e-03 2.54326161e-03\n",
      " 3.08301583e-03 1.99721244e-03 2.64857654e-03 3.42702268e-03\n",
      " 2.25950700e-03 2.46109491e-03 1.32307595e-03 3.67265814e-03\n",
      " 1.15142678e-03 2.04038802e-03 2.67938433e-03 1.82692925e-03\n",
      " 3.11180381e-03 1.90005684e-03 2.53998973e-03 2.30715406e-03\n",
      " 2.54440984e-03 2.03199287e-03 2.11530199e-03 3.66481447e-03\n",
      " 2.43271446e-03 2.31586860e-03 1.50422146e-03 1.65845330e-03\n",
      " 2.57656027e-03 3.62290538e-03 2.75156260e-03 2.89656898e-03\n",
      " 2.10788523e-03 3.28005073e-03 3.44883114e-03 1.46749075e-03\n",
      " 2.35626678e-03 1.72635580e-03 2.77304433e-03 1.43072052e-03\n",
      " 3.48914759e-03 3.88738215e-03 2.22492548e-03 2.65394312e-03\n",
      " 2.18007315e-03 1.21022823e-03 1.91483119e-03 2.43277993e-03\n",
      " 2.45193504e-03 2.57028868e-03 1.91351069e-03 2.18387060e-03\n",
      " 3.40564387e-03 2.60820601e-03 2.38386252e-03 2.63679195e-03\n",
      " 2.49155400e-03 2.78668306e-03 2.26839693e-03 6.48363931e-04\n",
      " 6.38015087e-04 2.36647434e-03 8.92904064e-04 1.24365234e-04\n",
      " 4.98775141e-04 9.72290045e-05 1.92295256e-04 3.79550875e-04\n",
      " 1.52451477e-04 6.35942889e-04 1.86410627e-03 1.45876902e-04\n",
      " 4.15870391e-04 7.37178355e-04 1.06159276e-03]\n"
     ]
    },
    {
     "data": {
      "image/png": "[encoded data removed]",
      "text/plain": [
       "<Figure size 432x288 with 1 Axes>"
      ]
     },
     "metadata": {
      "needs_background": "light"
     },
     "output_type": "display_data"
    }
   ],
   "source": [
    "tree = ExtraTreesClassifier()\n",
    "tree.fit(data, y2)\n",
    "print(tree.feature_importances_) \n",
    "feat_importances = pd.Series(tree.feature_importances_, index=data.columns)\n",
    "feat_importances.nlargest(20).plot(kind='barh')\n",
    "plt.show()"
   ]
  },
  {
   "cell_type": "markdown",
   "metadata": {},
   "source": [
    "# Сравнение методов"
   ]
  },
  {
   "cell_type": "code",
   "execution_count": 29,
   "metadata": {},
   "outputs": [],
   "source": [
    "feat_set = [list(features1), selected_features_be, list(imp_coef[imp_coef != 0].index)]"
   ]
  },
  {
   "cell_type": "code",
   "execution_count": 30,
   "metadata": {},
   "outputs": [],
   "source": [
    "from sklearn.model_selection import train_test_split\n",
    "X_train, X_test, y_train, y_test = train_test_split(data, y2, test_size=0.3, stratify=y2)"
   ]
  },
  {
   "cell_type": "code",
   "execution_count": 32,
   "metadata": {},
   "outputs": [],
   "source": [
    "from sklearn.metrics import classification_report, roc_auc_score\n",
    "tuned_parameters = {'alpha' : [0.001, 0.005, 0.01, 0.05, 0.1, 0.5, 1]}\n",
    "final_clf = GridSearchCV(SGDClassifier(loss='log', penalty='l2')\n",
    "                  ,tuned_parameters, cv=10, scoring='accuracy')"
   ]
  },
  {
   "cell_type": "code",
   "execution_count": 33,
   "metadata": {},
   "outputs": [],
   "source": [
    "import warnings\n",
    "warnings.filterwarnings('ignore')"
   ]
  },
  {
   "cell_type": "code",
   "execution_count": 37,
   "metadata": {},
   "outputs": [
    {
     "name": "stdout",
     "output_type": "stream",
     "text": [
      "              precision    recall  f1-score   support\n",
      "\n",
      "           0       0.53      0.01      0.01      6094\n",
      "           1       0.68      1.00      0.81     12875\n",
      "\n",
      "    accuracy                           0.68     18969\n",
      "   macro avg       0.61      0.50      0.41     18969\n",
      "weighted avg       0.63      0.68      0.55     18969\n",
      "\n",
      "0.6093618105983604\n",
      "              precision    recall  f1-score   support\n",
      "\n",
      "           0       0.45      0.01      0.01      6094\n",
      "           1       0.68      1.00      0.81     12875\n",
      "\n",
      "    accuracy                           0.68     18969\n",
      "   macro avg       0.56      0.50      0.41     18969\n",
      "weighted avg       0.61      0.68      0.55     18969\n",
      "\n",
      "0.6223052819739932\n",
      "              precision    recall  f1-score   support\n",
      "\n",
      "           0       0.53      0.07      0.12      6094\n",
      "           1       0.69      0.97      0.81     12875\n",
      "\n",
      "    accuracy                           0.68     18969\n",
      "   macro avg       0.61      0.52      0.46     18969\n",
      "weighted avg       0.64      0.68      0.59     18969\n",
      "\n",
      "0.6364185049117228\n"
     ]
    }
   ],
   "source": [
    "for i in feat_set:\n",
    "    final_clf.fit(X_train[i], y_train)\n",
    "    y_pred = final_clf.predict(X_test[i])\n",
    "    y_proba = final_clf.predict_proba(X_test[i])\n",
    "    print(classification_report(y_test, y_pred))\n",
    "    print(roc_auc_score(y_test, y_proba[...,1]))"
   ]
  },
  {
   "cell_type": "code",
   "execution_count": 38,
   "metadata": {},
   "outputs": [
    {
     "data": {
      "text/plain": [
       "0.6810585692445569"
      ]
     },
     "execution_count": 38,
     "metadata": {},
     "output_type": "execute_result"
    }
   ],
   "source": [
    "final_clf.score(X_test[feat_set[2]], y_test)"
   ]
  },
  {
   "cell_type": "code",
   "execution_count": 39,
   "metadata": {},
   "outputs": [],
   "source": [
    "X_PCA_train, X_PCA_test, y_pca_train, y_pca_test = train_test_split(data_pca, y2, test_size=0.3, stratify=y2)"
   ]
  },
  {
   "cell_type": "code",
   "execution_count": 41,
   "metadata": {},
   "outputs": [
    {
     "name": "stdout",
     "output_type": "stream",
     "text": [
      "              precision    recall  f1-score   support\n",
      "\n",
      "           0       0.55      0.04      0.08      6095\n",
      "           1       0.68      0.98      0.81     12874\n",
      "\n",
      "    accuracy                           0.68     18969\n",
      "   macro avg       0.62      0.51      0.45     18969\n",
      "weighted avg       0.64      0.68      0.57     18969\n",
      "\n",
      "0.6347885092630625\n"
     ]
    }
   ],
   "source": [
    "final_clf.fit(X_PCA_train, y_pca_train)\n",
    "y_pca_pred = final_clf.predict(X_PCA_test)\n",
    "y_proba = final_clf.predict_proba(X_PCA_test)\n",
    "print(classification_report(y_pca_test, y_pca_pred))\n",
    "print(roc_auc_score(y_pca_test, y_proba[..., 1]))"
   ]
  },
  {
   "cell_type": "code",
   "execution_count": 43,
   "metadata": {},
   "outputs": [],
   "source": [
    "from sklearn.linear_model import LogisticRegression"
   ]
  },
  {
   "cell_type": "code",
   "execution_count": 44,
   "metadata": {},
   "outputs": [],
   "source": [
    "model = LogisticRegression().fit(X_train, y_train)"
   ]
  },
  {
   "cell_type": "code",
   "execution_count": 45,
   "metadata": {},
   "outputs": [
    {
     "name": "stdout",
     "output_type": "stream",
     "text": [
      "              precision    recall  f1-score   support\n",
      "\n",
      "           0       0.48      0.08      0.14      6094\n",
      "           1       0.69      0.96      0.80     12875\n",
      "\n",
      "    accuracy                           0.68     18969\n",
      "   macro avg       0.58      0.52      0.47     18969\n",
      "weighted avg       0.62      0.68      0.59     18969\n",
      "\n",
      "0.633778263515602\n"
     ]
    }
   ],
   "source": [
    "y_pred = model.predict(X_test)\n",
    "y_proba = model.predict_proba(X_test)\n",
    "print(classification_report(y_test, y_pred))\n",
    "print(roc_auc_score(y_test, y_proba[..., 1]))"
   ]
  },
  {
   "cell_type": "code",
   "execution_count": 46,
   "metadata": {},
   "outputs": [],
   "source": [
    "from sklearn.ensemble import AdaBoostClassifier"
   ]
  },
  {
   "cell_type": "code",
   "execution_count": 47,
   "metadata": {},
   "outputs": [],
   "source": [
    "clf = AdaBoostClassifier(n_estimators=100, random_state=0, learning_rate=0.001)"
   ]
  },
  {
   "cell_type": "code",
   "execution_count": 48,
   "metadata": {},
   "outputs": [
    {
     "data": {
      "text/plain": [
       "AdaBoostClassifier(algorithm='SAMME.R', base_estimator=None,\n",
       "                   learning_rate=0.001, n_estimators=100, random_state=0)"
      ]
     },
     "execution_count": 48,
     "metadata": {},
     "output_type": "execute_result"
    }
   ],
   "source": [
    "clf.fit(X_train, y_train)"
   ]
  },
  {
   "cell_type": "code",
   "execution_count": 49,
   "metadata": {},
   "outputs": [
    {
     "data": {
      "text/plain": [
       "0.6787389952026991"
      ]
     },
     "execution_count": 49,
     "metadata": {},
     "output_type": "execute_result"
    }
   ],
   "source": [
    "clf.score(X_test, y_test)"
   ]
  },
  {
   "cell_type": "code",
   "execution_count": 50,
   "metadata": {},
   "outputs": [
    {
     "name": "stdout",
     "output_type": "stream",
     "text": [
      "              precision    recall  f1-score   support\n",
      "\n",
      "           0       0.00      0.00      0.00      6094\n",
      "           1       0.68      1.00      0.81     12875\n",
      "\n",
      "    accuracy                           0.68     18969\n",
      "   macro avg       0.34      0.50      0.40     18969\n",
      "weighted avg       0.46      0.68      0.55     18969\n",
      "\n",
      "0.5804767127303316\n"
     ]
    }
   ],
   "source": [
    "y_pred = clf.predict(X_test)\n",
    "y_proba = clf.predict_proba(X_test)\n",
    "print(classification_report(y_test, y_pred))\n",
    "print(roc_auc_score(y_test, y_proba[..., 1]))"
   ]
  },
  {
   "cell_type": "markdown",
   "metadata": {},
   "source": [
    "# Trying features from Xgboost"
   ]
  },
  {
   "cell_type": "code",
   "execution_count": 51,
   "metadata": {},
   "outputs": [],
   "source": [
    "xg_feat = ['var_422', 'var_242', 'var_243', 'var_300', 'var_467', 'var_302',\n",
    "       'var_104', 'var_062_sbrf', 'var_142', 'var_125', 'var_003',\n",
    "       'var_322', 'var_393', 'var_450', 'var_254', 'var_458', 'var_164']"
   ]
  },
  {
   "cell_type": "code",
   "execution_count": 52,
   "metadata": {},
   "outputs": [],
   "source": [
    "Train_xg = X_train[xg_feat]\n",
    "Test_xg = X_test[xg_feat]"
   ]
  },
  {
   "cell_type": "code",
   "execution_count": 53,
   "metadata": {},
   "outputs": [
    {
     "name": "stdout",
     "output_type": "stream",
     "text": [
      "              precision    recall  f1-score   support\n",
      "\n",
      "           0       0.34      0.00      0.00      6094\n",
      "           1       0.68      1.00      0.81     12875\n",
      "\n",
      "    accuracy                           0.68     18969\n",
      "   macro avg       0.51      0.50      0.41     18969\n",
      "weighted avg       0.57      0.68      0.55     18969\n",
      "\n",
      "0.6141520961251079\n"
     ]
    }
   ],
   "source": [
    "model_xg = LogisticRegression().fit(Train_xg, y_train)\n",
    "y_pred = model_xg.predict(Test_xg)\n",
    "y_proba = model_xg.predict_proba(Test_xg)\n",
    "print(classification_report(y_test, y_pred))\n",
    "print(roc_auc_score(y_test, y_proba[..., 1]))"
   ]
  },
  {
   "cell_type": "code",
   "execution_count": 54,
   "metadata": {},
   "outputs": [],
   "source": [
    "cat_feat = ['var_003',\n",
    " 'var_005',\n",
    " 'var_007',\n",
    " 'var_052',\n",
    " 'var_055',\n",
    " 'var_087',\n",
    " 'var_101',\n",
    " 'var_109',\n",
    " 'var_140',\n",
    " 'var_144',\n",
    " 'var_150',\n",
    " 'var_153',\n",
    " 'var_161',\n",
    " 'var_163',\n",
    " 'var_196',\n",
    " 'var_199',\n",
    " 'var_211',\n",
    " 'var_227',\n",
    " 'var_235',\n",
    " 'var_245',\n",
    " 'var_247',\n",
    " 'var_249',\n",
    " 'var_253',\n",
    " 'var_254',\n",
    " 'var_283',\n",
    " 'var_288',\n",
    " 'var_308',\n",
    " 'var_318',\n",
    " 'var_322',\n",
    " 'var_341',\n",
    " 'var_346',\n",
    " 'var_354',\n",
    " 'var_360',\n",
    " 'var_361',\n",
    " 'var_411',\n",
    " 'var_418',\n",
    " 'var_425',\n",
    " 'var_439',\n",
    " 'var_467']"
   ]
  },
  {
   "cell_type": "code",
   "execution_count": 55,
   "metadata": {},
   "outputs": [],
   "source": [
    "Train_cat = X_train[cat_feat]\n",
    "Test_cat = X_test[cat_feat]"
   ]
  },
  {
   "cell_type": "code",
   "execution_count": 56,
   "metadata": {},
   "outputs": [
    {
     "name": "stdout",
     "output_type": "stream",
     "text": [
      "              precision    recall  f1-score   support\n",
      "\n",
      "           0       0.42      0.02      0.03      6094\n",
      "           1       0.68      0.99      0.81     12875\n",
      "\n",
      "    accuracy                           0.68     18969\n",
      "   macro avg       0.55      0.50      0.42     18969\n",
      "weighted avg       0.60      0.68      0.56     18969\n",
      "\n",
      "0.611809948349642\n"
     ]
    }
   ],
   "source": [
    "model_cat = LogisticRegression().fit(Train_cat, y_train)\n",
    "y_pred = model_cat.predict(Test_cat)\n",
    "y_proba = model_cat.predict_proba(Test_cat)\n",
    "print(classification_report(y_test, y_pred))\n",
    "print(roc_auc_score(y_test, y_proba[..., 1]))"
   ]
  },
  {
   "cell_type": "code",
   "execution_count": 60,
   "metadata": {},
   "outputs": [
    {
     "data": {
      "text/plain": [
       "13"
      ]
     },
     "execution_count": 60,
     "metadata": {},
     "output_type": "execute_result"
    }
   ],
   "source": [
    "len(feat_set[0])"
   ]
  },
  {
   "cell_type": "code",
   "execution_count": 61,
   "metadata": {},
   "outputs": [
    {
     "data": {
      "text/plain": [
       "30"
      ]
     },
     "execution_count": 61,
     "metadata": {},
     "output_type": "execute_result"
    }
   ],
   "source": [
    "len(feat_set[1])"
   ]
  },
  {
   "cell_type": "code",
   "execution_count": 62,
   "metadata": {},
   "outputs": [
    {
     "data": {
      "text/plain": [
       "191"
      ]
     },
     "execution_count": 62,
     "metadata": {},
     "output_type": "execute_result"
    }
   ],
   "source": [
    "len(feat_set[2])"
   ]
  },
  {
   "cell_type": "code",
   "execution_count": 63,
   "metadata": {},
   "outputs": [
    {
     "data": {
      "text/plain": [
       "17"
      ]
     },
     "execution_count": 63,
     "metadata": {},
     "output_type": "execute_result"
    }
   ],
   "source": [
    "len(xg_feat)"
   ]
  },
  {
   "cell_type": "code",
   "execution_count": 64,
   "metadata": {},
   "outputs": [
    {
     "data": {
      "text/plain": [
       "39"
      ]
     },
     "execution_count": 64,
     "metadata": {},
     "output_type": "execute_result"
    }
   ],
   "source": [
    "len(cat_feat)"
   ]
  },
  {
   "cell_type": "code",
   "execution_count": null,
   "metadata": {},
   "outputs": [],
   "source": []
  }
 ],
 "metadata": {
  "kernelspec": {
   "display_name": "Python 3",
   "language": "python",
   "name": "python3"
  },
  "language_info": {
   "codemirror_mode": {
    "name": "ipython",
    "version": 3
   },
   "file_extension": ".py",
   "mimetype": "text/x-python",
   "name": "python",
   "nbconvert_exporter": "python",
   "pygments_lexer": "ipython3",
   "version": "3.7.3"
  }
 },
 "nbformat": 4,
 "nbformat_minor": 2
}
