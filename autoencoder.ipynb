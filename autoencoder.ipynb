{
 "cells": [
  {
   "cell_type": "code",
   "execution_count": 1,
   "metadata": {},
   "outputs": [],
   "source": [
    "import pandas as pd\n",
    "df = pd.read_csv(\"tcs_only_modeling_abt.tsv\", sep='\\t')\n",
    "data = df.drop([\"uid\", \"tech_obs_id\", \"app_bank_nm\", \"tech_dog_type\", \"trg_utilization\", \"tech_target_source\", \"tech_target_d\"],\n",
    "               axis = 1)\n",
    "data = data.drop(['var_0{}'.format(i) for i in range(63, 73 + 1)], axis = 1)\n",
    "data = data.dropna()\n",
    "data = pd.get_dummies(data)\n",
    "y1 = data['trg_pd']\n",
    "y2 = data['trg_grace']\n",
    "from sklearn.preprocessing import StandardScaler\n",
    "scaler = StandardScaler()\n",
    "data = pd.DataFrame(scaler.fit_transform(data), columns = data.columns)\n",
    "data = data.drop(columns=['trg_pd', 'trg_grace'])"
   ]
  },
  {
   "cell_type": "code",
   "execution_count": 2,
   "metadata": {},
   "outputs": [
    {
     "data": {
      "text/html": [
       "<div>\n",
       "<style scoped>\n",
       "    .dataframe tbody tr th:only-of-type {\n",
       "        vertical-align: middle;\n",
       "    }\n",
       "\n",
       "    .dataframe tbody tr th {\n",
       "        vertical-align: top;\n",
       "    }\n",
       "\n",
       "    .dataframe thead th {\n",
       "        text-align: right;\n",
       "    }\n",
       "</style>\n",
       "<table border=\"1\" class=\"dataframe\">\n",
       "  <thead>\n",
       "    <tr style=\"text-align: right;\">\n",
       "      <th></th>\n",
       "      <th>var_001</th>\n",
       "      <th>var_002</th>\n",
       "      <th>var_003</th>\n",
       "      <th>var_004</th>\n",
       "      <th>var_005</th>\n",
       "      <th>var_006</th>\n",
       "      <th>var_007</th>\n",
       "      <th>var_008</th>\n",
       "      <th>var_009</th>\n",
       "      <th>var_010</th>\n",
       "      <th>...</th>\n",
       "      <th>var_062_mts</th>\n",
       "      <th>var_062_orient</th>\n",
       "      <th>var_062_pochta</th>\n",
       "      <th>var_062_renaissance</th>\n",
       "      <th>var_062_rosbank</th>\n",
       "      <th>var_062_sbrf</th>\n",
       "      <th>var_062_tinkoff</th>\n",
       "      <th>var_062_ubrr</th>\n",
       "      <th>var_062_uralsib</th>\n",
       "      <th>var_062_vtb24</th>\n",
       "    </tr>\n",
       "  </thead>\n",
       "  <tbody>\n",
       "    <tr>\n",
       "      <th>0</th>\n",
       "      <td>-0.167919</td>\n",
       "      <td>0.673893</td>\n",
       "      <td>-0.767992</td>\n",
       "      <td>-0.073527</td>\n",
       "      <td>1.374671</td>\n",
       "      <td>-0.070758</td>\n",
       "      <td>-0.480494</td>\n",
       "      <td>-0.125601</td>\n",
       "      <td>0.655862</td>\n",
       "      <td>-0.166119</td>\n",
       "      <td>...</td>\n",
       "      <td>-0.046598</td>\n",
       "      <td>-0.058819</td>\n",
       "      <td>-0.137902</td>\n",
       "      <td>-0.035815</td>\n",
       "      <td>-0.126636</td>\n",
       "      <td>0.655344</td>\n",
       "      <td>-0.087093</td>\n",
       "      <td>-0.087736</td>\n",
       "      <td>-0.141723</td>\n",
       "      <td>-0.360996</td>\n",
       "    </tr>\n",
       "    <tr>\n",
       "      <th>1</th>\n",
       "      <td>-0.167919</td>\n",
       "      <td>0.673893</td>\n",
       "      <td>-0.767992</td>\n",
       "      <td>-0.073527</td>\n",
       "      <td>-0.727447</td>\n",
       "      <td>-0.070758</td>\n",
       "      <td>-0.480494</td>\n",
       "      <td>-0.125601</td>\n",
       "      <td>0.655862</td>\n",
       "      <td>-0.166119</td>\n",
       "      <td>...</td>\n",
       "      <td>-0.046598</td>\n",
       "      <td>-0.058819</td>\n",
       "      <td>-0.137902</td>\n",
       "      <td>-0.035815</td>\n",
       "      <td>-0.126636</td>\n",
       "      <td>0.655344</td>\n",
       "      <td>-0.087093</td>\n",
       "      <td>-0.087736</td>\n",
       "      <td>-0.141723</td>\n",
       "      <td>-0.360996</td>\n",
       "    </tr>\n",
       "    <tr>\n",
       "      <th>2</th>\n",
       "      <td>-0.167919</td>\n",
       "      <td>0.673893</td>\n",
       "      <td>-0.767992</td>\n",
       "      <td>-0.073527</td>\n",
       "      <td>-0.727447</td>\n",
       "      <td>-0.070758</td>\n",
       "      <td>-0.480494</td>\n",
       "      <td>-0.125601</td>\n",
       "      <td>0.655862</td>\n",
       "      <td>-0.166119</td>\n",
       "      <td>...</td>\n",
       "      <td>-0.046598</td>\n",
       "      <td>-0.058819</td>\n",
       "      <td>-0.137902</td>\n",
       "      <td>-0.035815</td>\n",
       "      <td>-0.126636</td>\n",
       "      <td>0.655344</td>\n",
       "      <td>-0.087093</td>\n",
       "      <td>-0.087736</td>\n",
       "      <td>-0.141723</td>\n",
       "      <td>-0.360996</td>\n",
       "    </tr>\n",
       "    <tr>\n",
       "      <th>3</th>\n",
       "      <td>-0.167919</td>\n",
       "      <td>0.673893</td>\n",
       "      <td>-0.767992</td>\n",
       "      <td>-0.073527</td>\n",
       "      <td>1.374671</td>\n",
       "      <td>-0.070758</td>\n",
       "      <td>-0.480494</td>\n",
       "      <td>-0.125601</td>\n",
       "      <td>0.655862</td>\n",
       "      <td>-0.166119</td>\n",
       "      <td>...</td>\n",
       "      <td>-0.046598</td>\n",
       "      <td>-0.058819</td>\n",
       "      <td>-0.137902</td>\n",
       "      <td>-0.035815</td>\n",
       "      <td>-0.126636</td>\n",
       "      <td>-1.525916</td>\n",
       "      <td>-0.087093</td>\n",
       "      <td>-0.087736</td>\n",
       "      <td>-0.141723</td>\n",
       "      <td>2.770113</td>\n",
       "    </tr>\n",
       "    <tr>\n",
       "      <th>4</th>\n",
       "      <td>-0.167919</td>\n",
       "      <td>-1.483916</td>\n",
       "      <td>-0.767992</td>\n",
       "      <td>-0.073527</td>\n",
       "      <td>-0.727447</td>\n",
       "      <td>-0.070758</td>\n",
       "      <td>-0.480494</td>\n",
       "      <td>-0.125601</td>\n",
       "      <td>-1.524711</td>\n",
       "      <td>-0.166119</td>\n",
       "      <td>...</td>\n",
       "      <td>-0.046598</td>\n",
       "      <td>-0.058819</td>\n",
       "      <td>-0.137902</td>\n",
       "      <td>-0.035815</td>\n",
       "      <td>-0.126636</td>\n",
       "      <td>0.655344</td>\n",
       "      <td>-0.087093</td>\n",
       "      <td>-0.087736</td>\n",
       "      <td>-0.141723</td>\n",
       "      <td>-0.360996</td>\n",
       "    </tr>\n",
       "  </tbody>\n",
       "</table>\n",
       "<p>5 rows × 471 columns</p>\n",
       "</div>"
      ],
      "text/plain": [
       "    var_001   var_002   var_003   var_004   var_005   var_006   var_007  \\\n",
       "0 -0.167919  0.673893 -0.767992 -0.073527  1.374671 -0.070758 -0.480494   \n",
       "1 -0.167919  0.673893 -0.767992 -0.073527 -0.727447 -0.070758 -0.480494   \n",
       "2 -0.167919  0.673893 -0.767992 -0.073527 -0.727447 -0.070758 -0.480494   \n",
       "3 -0.167919  0.673893 -0.767992 -0.073527  1.374671 -0.070758 -0.480494   \n",
       "4 -0.167919 -1.483916 -0.767992 -0.073527 -0.727447 -0.070758 -0.480494   \n",
       "\n",
       "    var_008   var_009   var_010  ...  var_062_mts  var_062_orient  \\\n",
       "0 -0.125601  0.655862 -0.166119  ...    -0.046598       -0.058819   \n",
       "1 -0.125601  0.655862 -0.166119  ...    -0.046598       -0.058819   \n",
       "2 -0.125601  0.655862 -0.166119  ...    -0.046598       -0.058819   \n",
       "3 -0.125601  0.655862 -0.166119  ...    -0.046598       -0.058819   \n",
       "4 -0.125601 -1.524711 -0.166119  ...    -0.046598       -0.058819   \n",
       "\n",
       "   var_062_pochta  var_062_renaissance  var_062_rosbank  var_062_sbrf  \\\n",
       "0       -0.137902            -0.035815        -0.126636      0.655344   \n",
       "1       -0.137902            -0.035815        -0.126636      0.655344   \n",
       "2       -0.137902            -0.035815        -0.126636      0.655344   \n",
       "3       -0.137902            -0.035815        -0.126636     -1.525916   \n",
       "4       -0.137902            -0.035815        -0.126636      0.655344   \n",
       "\n",
       "   var_062_tinkoff  var_062_ubrr  var_062_uralsib  var_062_vtb24  \n",
       "0        -0.087093     -0.087736        -0.141723      -0.360996  \n",
       "1        -0.087093     -0.087736        -0.141723      -0.360996  \n",
       "2        -0.087093     -0.087736        -0.141723      -0.360996  \n",
       "3        -0.087093     -0.087736        -0.141723       2.770113  \n",
       "4        -0.087093     -0.087736        -0.141723      -0.360996  \n",
       "\n",
       "[5 rows x 471 columns]"
      ]
     },
     "execution_count": 2,
     "metadata": {},
     "output_type": "execute_result"
    }
   ],
   "source": [
    "data.head()"
   ]
  },
  {
   "cell_type": "code",
   "execution_count": 3,
   "metadata": {},
   "outputs": [
    {
     "data": {
      "text/plain": [
       "(63230, 471)"
      ]
     },
     "execution_count": 3,
     "metadata": {},
     "output_type": "execute_result"
    }
   ],
   "source": [
    "data.shape"
   ]
  },
  {
   "cell_type": "code",
   "execution_count": 4,
   "metadata": {},
   "outputs": [],
   "source": [
    "import torch"
   ]
  },
  {
   "cell_type": "code",
   "execution_count": 5,
   "metadata": {},
   "outputs": [],
   "source": [
    "from sklearn.model_selection import train_test_split"
   ]
  },
  {
   "cell_type": "code",
   "execution_count": 6,
   "metadata": {},
   "outputs": [],
   "source": [
    "X_train, X_test, y_train, y_test = train_test_split(data, y2, test_size=0.3, stratify=y2)"
   ]
  },
  {
   "cell_type": "code",
   "execution_count": 7,
   "metadata": {},
   "outputs": [],
   "source": [
    "X_train = X_train.to_numpy()\n",
    "X_test = X_test.to_numpy()"
   ]
  },
  {
   "cell_type": "code",
   "execution_count": 8,
   "metadata": {},
   "outputs": [],
   "source": [
    "y_train = y_train.to_numpy()\n",
    "y_test = y_test.to_numpy()"
   ]
  },
  {
   "cell_type": "code",
   "execution_count": 9,
   "metadata": {},
   "outputs": [],
   "source": [
    "X_train = torch.from_numpy(X_train)\n",
    "X_test = torch.from_numpy(X_test)\n",
    "y_train = torch.from_numpy(y_train)\n",
    "y_test = torch.from_numpy(y_test)"
   ]
  },
  {
   "cell_type": "code",
   "execution_count": 10,
   "metadata": {},
   "outputs": [],
   "source": [
    "import numpy"
   ]
  },
  {
   "cell_type": "code",
   "execution_count": 11,
   "metadata": {},
   "outputs": [],
   "source": [
    "X_train = X_train.float()\n",
    "X_test = X_test.float()"
   ]
  },
  {
   "cell_type": "code",
   "execution_count": 18,
   "metadata": {},
   "outputs": [],
   "source": [
    "class EncoderNet(torch.nn.Module):\n",
    "    def __init__(self):\n",
    "        super(EncoderNet, self).__init__()\n",
    "        self.bn0 = torch.nn.BatchNorm1d(471)\n",
    "        self.fc1 = torch.nn.Linear(471, 235)\n",
    "        self.ac1 = torch.nn.ReLU()\n",
    "        self.bn1 = torch.nn.BatchNorm1d(235)\n",
    "        self.fc2 = torch.nn.Linear(235, 117)\n",
    "        self.ac2 = torch.nn.ReLU()\n",
    "        self.bn2 = torch.nn.BatchNorm1d(117)\n",
    "        self.fc3 = torch.nn.Linear(117, 60)\n",
    "        self.ac3 = torch.nn.ReLU()\n",
    "        self.bn3 = torch.nn.BatchNorm1d(60)\n",
    "        self.fc4 = torch.nn.Linear(60, 117)\n",
    "        self.ac4 = torch.nn.ReLU()\n",
    "        self.bn4 = torch.nn.BatchNorm1d(117)\n",
    "        self.fc5 = torch.nn.Linear(117, 235)\n",
    "        self.ac5 = torch.nn.ReLU()\n",
    "        self.bn5 = torch.nn.BatchNorm1d(235)\n",
    "        self.fc6 = torch.nn.Linear(235, 471)\n",
    "        \n",
    "    def forward(self, x):\n",
    "        x = self.bn0(x)\n",
    "        x = self.fc1(x)\n",
    "        x = self.ac1(x)\n",
    "        x = self.bn1(x)\n",
    "        x = self.fc2(x)\n",
    "        x = self.ac2(x)\n",
    "        x = self.bn2(x)\n",
    "        x = self.fc3(x)\n",
    "        x = self.ac3(x)\n",
    "        x = self.bn3(x)\n",
    "        x = self.fc4(x)\n",
    "        x = self.ac4(x)\n",
    "        x = self.bn4(x)\n",
    "        x = self.fc5(x)\n",
    "        x = self.ac5(x)\n",
    "        x = self.bn5(x)\n",
    "        x = self.fc6(x)\n",
    "        return x\n",
    "        \n",
    "    def encode(self, x):\n",
    "        x = self.bn0(x)\n",
    "        x = self.fc1(x)\n",
    "        x = self.ac1(x)\n",
    "        x = self.bn1(x)\n",
    "        x = self.fc2(x)\n",
    "        x = self.ac2(x)\n",
    "        x = self.bn2(x)\n",
    "        x = self.fc3(x)\n",
    "        x = self.ac3(x)\n",
    "        x = self.bn3(x)\n",
    "        return x\n",
    "    \n",
    "    def decode(self, x):\n",
    "        x = self.fc4(x)\n",
    "        x = self.ac4(x)\n",
    "        x = self.bn4(x)\n",
    "        x = self.fc5(x)\n",
    "        x = self.ac5(x)\n",
    "        x = self.bn5(x)\n",
    "        x = self.fc6(x)\n",
    "        return x"
   ]
  },
  {
   "cell_type": "code",
   "execution_count": 19,
   "metadata": {},
   "outputs": [],
   "source": [
    "device = torch.device('cuda:0' if torch.cuda.is_available() else 'cpu')\n",
    "net = EncoderNet()\n",
    "net = net.to(device)\n",
    "optimizer = torch.optim.Adam(net.parameters(), lr=3.0e-4)"
   ]
  },
  {
   "cell_type": "code",
   "execution_count": 20,
   "metadata": {},
   "outputs": [
    {
     "name": "stdout",
     "output_type": "stream",
     "text": [
      "tensor(0.6699)\n",
      "tensor(0.6074)\n",
      "tensor(0.5740)\n",
      "tensor(0.5509)\n"
     ]
    },
    {
     "ename": "KeyboardInterrupt",
     "evalue": "",
     "output_type": "error",
     "traceback": [
      "\u001b[1;31m---------------------------------------------------------------------------\u001b[0m",
      "\u001b[1;31mKeyboardInterrupt\u001b[0m                         Traceback (most recent call last)",
      "\u001b[1;32m<ipython-input-20-afb0370e9d08>\u001b[0m in \u001b[0;36m<module>\u001b[1;34m\u001b[0m\n\u001b[0;32m      8\u001b[0m         \u001b[0moptimizer\u001b[0m\u001b[1;33m.\u001b[0m\u001b[0mzero_grad\u001b[0m\u001b[1;33m(\u001b[0m\u001b[1;33m)\u001b[0m\u001b[1;33m\u001b[0m\u001b[1;33m\u001b[0m\u001b[0m\n\u001b[0;32m      9\u001b[0m         \u001b[0mX_batch\u001b[0m \u001b[1;33m=\u001b[0m \u001b[0mX_train\u001b[0m\u001b[1;33m[\u001b[0m\u001b[0morder\u001b[0m\u001b[1;33m[\u001b[0m\u001b[0mstart_index\u001b[0m \u001b[1;33m:\u001b[0m \u001b[0mstart_index\u001b[0m \u001b[1;33m+\u001b[0m \u001b[0mbatch_size\u001b[0m\u001b[1;33m]\u001b[0m\u001b[1;33m]\u001b[0m\u001b[1;33m\u001b[0m\u001b[1;33m\u001b[0m\u001b[0m\n\u001b[1;32m---> 10\u001b[1;33m         \u001b[0mpreds\u001b[0m \u001b[1;33m=\u001b[0m \u001b[0mnet\u001b[0m\u001b[1;33m.\u001b[0m\u001b[0mforward\u001b[0m\u001b[1;33m(\u001b[0m\u001b[0mX_batch\u001b[0m\u001b[1;33m)\u001b[0m\u001b[1;33m\u001b[0m\u001b[1;33m\u001b[0m\u001b[0m\n\u001b[0m\u001b[0;32m     11\u001b[0m         \u001b[0mloss_val\u001b[0m \u001b[1;33m=\u001b[0m \u001b[0mloss\u001b[0m\u001b[1;33m(\u001b[0m\u001b[0mpreds\u001b[0m\u001b[1;33m,\u001b[0m \u001b[0mX_batch\u001b[0m\u001b[1;33m)\u001b[0m\u001b[1;33m\u001b[0m\u001b[1;33m\u001b[0m\u001b[0m\n\u001b[0;32m     12\u001b[0m         \u001b[0mloss_val\u001b[0m\u001b[1;33m.\u001b[0m\u001b[0mbackward\u001b[0m\u001b[1;33m(\u001b[0m\u001b[1;33m)\u001b[0m\u001b[1;33m\u001b[0m\u001b[1;33m\u001b[0m\u001b[0m\n",
      "\u001b[1;32m<ipython-input-18-2baaeeb4e426>\u001b[0m in \u001b[0;36mforward\u001b[1;34m(self, x)\u001b[0m\n\u001b[0;32m     36\u001b[0m         \u001b[0mx\u001b[0m \u001b[1;33m=\u001b[0m \u001b[0mself\u001b[0m\u001b[1;33m.\u001b[0m\u001b[0mfc5\u001b[0m\u001b[1;33m(\u001b[0m\u001b[0mx\u001b[0m\u001b[1;33m)\u001b[0m\u001b[1;33m\u001b[0m\u001b[1;33m\u001b[0m\u001b[0m\n\u001b[0;32m     37\u001b[0m         \u001b[0mx\u001b[0m \u001b[1;33m=\u001b[0m \u001b[0mself\u001b[0m\u001b[1;33m.\u001b[0m\u001b[0mac5\u001b[0m\u001b[1;33m(\u001b[0m\u001b[0mx\u001b[0m\u001b[1;33m)\u001b[0m\u001b[1;33m\u001b[0m\u001b[1;33m\u001b[0m\u001b[0m\n\u001b[1;32m---> 38\u001b[1;33m         \u001b[0mx\u001b[0m \u001b[1;33m=\u001b[0m \u001b[0mself\u001b[0m\u001b[1;33m.\u001b[0m\u001b[0mbn5\u001b[0m\u001b[1;33m(\u001b[0m\u001b[0mx\u001b[0m\u001b[1;33m)\u001b[0m\u001b[1;33m\u001b[0m\u001b[1;33m\u001b[0m\u001b[0m\n\u001b[0m\u001b[0;32m     39\u001b[0m         \u001b[0mx\u001b[0m \u001b[1;33m=\u001b[0m \u001b[0mself\u001b[0m\u001b[1;33m.\u001b[0m\u001b[0mfc6\u001b[0m\u001b[1;33m(\u001b[0m\u001b[0mx\u001b[0m\u001b[1;33m)\u001b[0m\u001b[1;33m\u001b[0m\u001b[1;33m\u001b[0m\u001b[0m\n\u001b[0;32m     40\u001b[0m         \u001b[1;32mreturn\u001b[0m \u001b[0mx\u001b[0m\u001b[1;33m\u001b[0m\u001b[1;33m\u001b[0m\u001b[0m\n",
      "\u001b[1;32mC:\\ProgramData\\Anaconda3\\lib\\site-packages\\torch\\nn\\modules\\module.py\u001b[0m in \u001b[0;36m__call__\u001b[1;34m(self, *input, **kwargs)\u001b[0m\n\u001b[0;32m    545\u001b[0m             \u001b[0mresult\u001b[0m \u001b[1;33m=\u001b[0m \u001b[0mself\u001b[0m\u001b[1;33m.\u001b[0m\u001b[0m_slow_forward\u001b[0m\u001b[1;33m(\u001b[0m\u001b[1;33m*\u001b[0m\u001b[0minput\u001b[0m\u001b[1;33m,\u001b[0m \u001b[1;33m**\u001b[0m\u001b[0mkwargs\u001b[0m\u001b[1;33m)\u001b[0m\u001b[1;33m\u001b[0m\u001b[1;33m\u001b[0m\u001b[0m\n\u001b[0;32m    546\u001b[0m         \u001b[1;32melse\u001b[0m\u001b[1;33m:\u001b[0m\u001b[1;33m\u001b[0m\u001b[1;33m\u001b[0m\u001b[0m\n\u001b[1;32m--> 547\u001b[1;33m             \u001b[0mresult\u001b[0m \u001b[1;33m=\u001b[0m \u001b[0mself\u001b[0m\u001b[1;33m.\u001b[0m\u001b[0mforward\u001b[0m\u001b[1;33m(\u001b[0m\u001b[1;33m*\u001b[0m\u001b[0minput\u001b[0m\u001b[1;33m,\u001b[0m \u001b[1;33m**\u001b[0m\u001b[0mkwargs\u001b[0m\u001b[1;33m)\u001b[0m\u001b[1;33m\u001b[0m\u001b[1;33m\u001b[0m\u001b[0m\n\u001b[0m\u001b[0;32m    548\u001b[0m         \u001b[1;32mfor\u001b[0m \u001b[0mhook\u001b[0m \u001b[1;32min\u001b[0m \u001b[0mself\u001b[0m\u001b[1;33m.\u001b[0m\u001b[0m_forward_hooks\u001b[0m\u001b[1;33m.\u001b[0m\u001b[0mvalues\u001b[0m\u001b[1;33m(\u001b[0m\u001b[1;33m)\u001b[0m\u001b[1;33m:\u001b[0m\u001b[1;33m\u001b[0m\u001b[1;33m\u001b[0m\u001b[0m\n\u001b[0;32m    549\u001b[0m             \u001b[0mhook_result\u001b[0m \u001b[1;33m=\u001b[0m \u001b[0mhook\u001b[0m\u001b[1;33m(\u001b[0m\u001b[0mself\u001b[0m\u001b[1;33m,\u001b[0m \u001b[0minput\u001b[0m\u001b[1;33m,\u001b[0m \u001b[0mresult\u001b[0m\u001b[1;33m)\u001b[0m\u001b[1;33m\u001b[0m\u001b[1;33m\u001b[0m\u001b[0m\n",
      "\u001b[1;32mC:\\ProgramData\\Anaconda3\\lib\\site-packages\\torch\\nn\\modules\\batchnorm.py\u001b[0m in \u001b[0;36mforward\u001b[1;34m(self, input)\u001b[0m\n\u001b[0;32m     79\u001b[0m             \u001b[0minput\u001b[0m\u001b[1;33m,\u001b[0m \u001b[0mself\u001b[0m\u001b[1;33m.\u001b[0m\u001b[0mrunning_mean\u001b[0m\u001b[1;33m,\u001b[0m \u001b[0mself\u001b[0m\u001b[1;33m.\u001b[0m\u001b[0mrunning_var\u001b[0m\u001b[1;33m,\u001b[0m \u001b[0mself\u001b[0m\u001b[1;33m.\u001b[0m\u001b[0mweight\u001b[0m\u001b[1;33m,\u001b[0m \u001b[0mself\u001b[0m\u001b[1;33m.\u001b[0m\u001b[0mbias\u001b[0m\u001b[1;33m,\u001b[0m\u001b[1;33m\u001b[0m\u001b[1;33m\u001b[0m\u001b[0m\n\u001b[0;32m     80\u001b[0m             \u001b[0mself\u001b[0m\u001b[1;33m.\u001b[0m\u001b[0mtraining\u001b[0m \u001b[1;32mor\u001b[0m \u001b[1;32mnot\u001b[0m \u001b[0mself\u001b[0m\u001b[1;33m.\u001b[0m\u001b[0mtrack_running_stats\u001b[0m\u001b[1;33m,\u001b[0m\u001b[1;33m\u001b[0m\u001b[1;33m\u001b[0m\u001b[0m\n\u001b[1;32m---> 81\u001b[1;33m             exponential_average_factor, self.eps)\n\u001b[0m\u001b[0;32m     82\u001b[0m \u001b[1;33m\u001b[0m\u001b[0m\n\u001b[0;32m     83\u001b[0m     \u001b[1;32mdef\u001b[0m \u001b[0mextra_repr\u001b[0m\u001b[1;33m(\u001b[0m\u001b[0mself\u001b[0m\u001b[1;33m)\u001b[0m\u001b[1;33m:\u001b[0m\u001b[1;33m\u001b[0m\u001b[1;33m\u001b[0m\u001b[0m\n",
      "\u001b[1;32mC:\\ProgramData\\Anaconda3\\lib\\site-packages\\torch\\nn\\functional.py\u001b[0m in \u001b[0;36mbatch_norm\u001b[1;34m(input, running_mean, running_var, weight, bias, training, momentum, eps)\u001b[0m\n\u001b[0;32m   1654\u001b[0m     return torch.batch_norm(\n\u001b[0;32m   1655\u001b[0m         \u001b[0minput\u001b[0m\u001b[1;33m,\u001b[0m \u001b[0mweight\u001b[0m\u001b[1;33m,\u001b[0m \u001b[0mbias\u001b[0m\u001b[1;33m,\u001b[0m \u001b[0mrunning_mean\u001b[0m\u001b[1;33m,\u001b[0m \u001b[0mrunning_var\u001b[0m\u001b[1;33m,\u001b[0m\u001b[1;33m\u001b[0m\u001b[1;33m\u001b[0m\u001b[0m\n\u001b[1;32m-> 1656\u001b[1;33m         \u001b[0mtraining\u001b[0m\u001b[1;33m,\u001b[0m \u001b[0mmomentum\u001b[0m\u001b[1;33m,\u001b[0m \u001b[0meps\u001b[0m\u001b[1;33m,\u001b[0m \u001b[0mtorch\u001b[0m\u001b[1;33m.\u001b[0m\u001b[0mbackends\u001b[0m\u001b[1;33m.\u001b[0m\u001b[0mcudnn\u001b[0m\u001b[1;33m.\u001b[0m\u001b[0menabled\u001b[0m\u001b[1;33m\u001b[0m\u001b[1;33m\u001b[0m\u001b[0m\n\u001b[0m\u001b[0;32m   1657\u001b[0m     )\n\u001b[0;32m   1658\u001b[0m \u001b[1;33m\u001b[0m\u001b[0m\n",
      "\u001b[1;31mKeyboardInterrupt\u001b[0m: "
     ]
    }
   ],
   "source": [
    "batch_size = 100\n",
    "loss_history = []\n",
    "loss = torch.nn.MSELoss()\n",
    "\n",
    "for epoch in range(1000):\n",
    "    order = numpy.random.permutation(len(X_train))\n",
    "    for start_index in range(0, len(X_train), batch_size):\n",
    "        optimizer.zero_grad()\n",
    "        X_batch = X_train[order[start_index : start_index + batch_size]]\n",
    "        preds = net.forward(X_batch)\n",
    "        loss_val = loss(preds, X_batch)\n",
    "        loss_val.backward()\n",
    "        optimizer.step()\n",
    "\n",
    "    test_pred = net.forward(X_test)\n",
    "    loss_history.append((loss(test_pred, X_test).data))\n",
    "    print(loss_history[-1])"
   ]
  },
  {
   "cell_type": "code",
   "execution_count": 168,
   "metadata": {},
   "outputs": [
    {
     "data": {
      "text/plain": [
       "[<matplotlib.lines.Line2D at 0x1bf87260cf8>]"
      ]
     },
     "execution_count": 168,
     "metadata": {},
     "output_type": "execute_result"
    },
    {
     "data": {
      "image/png": "[encoded data removed]",
      "text/plain": [
       "<Figure size 432x288 with 1 Axes>"
      ]
     },
     "metadata": {
      "needs_background": "light"
     },
     "output_type": "display_data"
    }
   ],
   "source": [
    "from matplotlib import pyplot as plt\n",
    "%matplotlib inline\n",
    "plt.plot(loss_history)"
   ]
  },
  {
   "cell_type": "code",
   "execution_count": 169,
   "metadata": {},
   "outputs": [
    {
     "name": "stderr",
     "output_type": "stream",
     "text": [
      "C:\\ProgramData\\Anaconda3\\lib\\site-packages\\torch\\serialization.py:256: UserWarning: Couldn't retrieve source code for container of type EncoderNet. It won't be checked for correctness upon loading.\n",
      "  \"type \" + obj.__name__ + \". It won't be checked \"\n"
     ]
    }
   ],
   "source": [
    "torch.save(net, 'encoder.pickle')"
   ]
  },
  {
   "cell_type": "code",
   "execution_count": 170,
   "metadata": {},
   "outputs": [],
   "source": [
    "X_train_en = net.encode(X_train).data"
   ]
  },
  {
   "cell_type": "code",
   "execution_count": 171,
   "metadata": {},
   "outputs": [],
   "source": [
    "X_test_en = net.encode(X_test).data"
   ]
  },
  {
   "cell_type": "code",
   "execution_count": 172,
   "metadata": {},
   "outputs": [],
   "source": [
    "X_train_en = X_train_en.numpy()\n",
    "X_test_en = X_test_en.numpy()"
   ]
  },
  {
   "cell_type": "code",
   "execution_count": 173,
   "metadata": {},
   "outputs": [
    {
     "ename": "AttributeError",
     "evalue": "'numpy.ndarray' object has no attribute 'numpy'",
     "output_type": "error",
     "traceback": [
      "\u001b[1;31m---------------------------------------------------------------------------\u001b[0m",
      "\u001b[1;31mAttributeError\u001b[0m                            Traceback (most recent call last)",
      "\u001b[1;32m<ipython-input-173-61172776050e>\u001b[0m in \u001b[0;36m<module>\u001b[1;34m\u001b[0m\n\u001b[1;32m----> 1\u001b[1;33m \u001b[0my_train\u001b[0m \u001b[1;33m=\u001b[0m \u001b[0my_train\u001b[0m\u001b[1;33m.\u001b[0m\u001b[0mnumpy\u001b[0m\u001b[1;33m(\u001b[0m\u001b[1;33m)\u001b[0m\u001b[1;33m\u001b[0m\u001b[1;33m\u001b[0m\u001b[0m\n\u001b[0m\u001b[0;32m      2\u001b[0m \u001b[0my_test\u001b[0m \u001b[1;33m=\u001b[0m \u001b[0my_test\u001b[0m\u001b[1;33m.\u001b[0m\u001b[0mnumpy\u001b[0m\u001b[1;33m(\u001b[0m\u001b[1;33m)\u001b[0m\u001b[1;33m\u001b[0m\u001b[1;33m\u001b[0m\u001b[0m\n",
      "\u001b[1;31mAttributeError\u001b[0m: 'numpy.ndarray' object has no attribute 'numpy'"
     ]
    }
   ],
   "source": [
    "y_train = y_train.numpy()\n",
    "y_test = y_test.numpy()"
   ]
  },
  {
   "cell_type": "code",
   "execution_count": 174,
   "metadata": {},
   "outputs": [],
   "source": [
    "from sklearn.linear_model import LogisticRegressionCV, SGDClassifier\n",
    "from sklearn.model_selection import GridSearchCV"
   ]
  },
  {
   "cell_type": "code",
   "execution_count": 175,
   "metadata": {},
   "outputs": [],
   "source": [
    "tuned_parameters = {'alpha': [10 ** a for a in range(-6, -1)]}\n",
    "clf = GridSearchCV(SGDClassifier(loss='log', penalty='l2')\n",
    "                  ,tuned_parameters, cv=9, scoring='roc_auc').fit(X_train_en, y_train)"
   ]
  },
  {
   "cell_type": "code",
   "execution_count": 176,
   "metadata": {},
   "outputs": [
    {
     "data": {
      "text/plain": [
       "0.6285241903510304"
      ]
     },
     "execution_count": 176,
     "metadata": {},
     "output_type": "execute_result"
    }
   ],
   "source": [
    "clf.score(X_test_en, y_test)"
   ]
  },
  {
   "cell_type": "code",
   "execution_count": 177,
   "metadata": {},
   "outputs": [],
   "source": [
    "y_pred = clf.predict(X_test_en)"
   ]
  },
  {
   "cell_type": "code",
   "execution_count": 178,
   "metadata": {},
   "outputs": [
    {
     "name": "stdout",
     "output_type": "stream",
     "text": [
      "              precision    recall  f1-score   support\n",
      "\n",
      "           0       0.55      0.01      0.01      6095\n",
      "           1       0.68      1.00      0.81     12874\n",
      "\n",
      "    accuracy                           0.68     18969\n",
      "   macro avg       0.61      0.50      0.41     18969\n",
      "weighted avg       0.64      0.68      0.55     18969\n",
      "\n",
      "0.5020429217213905\n"
     ]
    }
   ],
   "source": [
    "from sklearn.metrics import classification_report, roc_auc_score\n",
    "print(classification_report(y_test, y_pred))\n",
    "print(roc_auc_score(y_test, y_pred))"
   ]
  },
  {
   "cell_type": "code",
   "execution_count": null,
   "metadata": {},
   "outputs": [],
   "source": []
  }
 ],
 "metadata": {
  "kernelspec": {
   "display_name": "Python 3",
   "language": "python",
   "name": "python3"
  },
  "language_info": {
   "codemirror_mode": {
    "name": "ipython",
    "version": 3
   },
   "file_extension": ".py",
   "mimetype": "text/x-python",
   "name": "python",
   "nbconvert_exporter": "python",
   "pygments_lexer": "ipython3",
   "version": "3.7.3"
  }
 },
 "nbformat": 4,
 "nbformat_minor": 2
}
